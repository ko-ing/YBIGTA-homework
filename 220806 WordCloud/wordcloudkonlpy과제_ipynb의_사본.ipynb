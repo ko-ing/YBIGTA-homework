{
  "cells": [
    {
      "cell_type": "markdown",
      "source": [
        "<h1> 데이콘 영화리뷰 감성분석 경진대회 </h1>\n",
        "\n",
        "어렵지 않으니 스스로 # To do 부분을 채워보시고 고민해봐도 모르겠다면 코드공유를 참고해주세요! 아니면 과제를 다 하시고 설명이 자세히 적혀있는 코드공유로 리뷰를 하셔도 좋습니다"
      ],
      "metadata": {
        "id": "g90kUrOX_P53"
      }
    },
    {
      "cell_type": "markdown",
      "metadata": {
        "id": "n1QU5sygxzX5"
      },
      "source": [
        "# train.csv 학습/검증"
      ]
    },
    {
      "cell_type": "markdown",
      "metadata": {
        "id": "AAcvJqY7xzX8"
      },
      "source": [
        "### 필요한 패키지 불러오기\n"
      ]
    },
    {
      "cell_type": "code",
      "source": [
        "from google.colab import drive\n",
        "drive.mount('/content/drive')"
      ],
      "metadata": {
        "colab": {
          "base_uri": "https://localhost:8080/"
        },
        "id": "dAVQLrGB0gW_",
        "outputId": "e3872039-45bf-49f9-f6d9-06b2cbc0b9b9"
      },
      "execution_count": null,
      "outputs": [
        {
          "output_type": "stream",
          "name": "stdout",
          "text": [
            "Drive already mounted at /content/drive; to attempt to forcibly remount, call drive.mount(\"/content/drive\", force_remount=True).\n"
          ]
        }
      ]
    },
    {
      "cell_type": "code",
      "execution_count": null,
      "metadata": {
        "id": "CNZo3SKtxzX_"
      },
      "outputs": [],
      "source": [
        "import pandas as pd\n",
        "import numpy as np\n",
        "import re\n",
        "import warnings\n",
        "warnings.filterwarnings(action='ignore')\n",
        "import nltk\n",
        "#nltk.download('all') # 처음 실행 시 주석을 제거하고 실행해주세요!"
      ]
    },
    {
      "cell_type": "code",
      "source": [
        "!pip install konlpy"
      ],
      "metadata": {
        "colab": {
          "base_uri": "https://localhost:8080/"
        },
        "id": "3HOca6Yz1FK5",
        "outputId": "0331ad55-a148-41b6-c562-3da38bba9a12"
      },
      "execution_count": null,
      "outputs": [
        {
          "output_type": "stream",
          "name": "stdout",
          "text": [
            "Looking in indexes: https://pypi.org/simple, https://us-python.pkg.dev/colab-wheels/public/simple/\n",
            "Collecting konlpy\n",
            "  Downloading konlpy-0.6.0-py2.py3-none-any.whl (19.4 MB)\n",
            "\u001b[K     |████████████████████████████████| 19.4 MB 1.4 MB/s \n",
            "\u001b[?25hCollecting JPype1>=0.7.0\n",
            "  Downloading JPype1-1.4.0-cp37-cp37m-manylinux_2_5_x86_64.manylinux1_x86_64.whl (453 kB)\n",
            "\u001b[K     |████████████████████████████████| 453 kB 47.3 MB/s \n",
            "\u001b[?25hRequirement already satisfied: lxml>=4.1.0 in /usr/local/lib/python3.7/dist-packages (from konlpy) (4.9.1)\n",
            "Requirement already satisfied: numpy>=1.6 in /usr/local/lib/python3.7/dist-packages (from konlpy) (1.21.6)\n",
            "Requirement already satisfied: typing-extensions in /usr/local/lib/python3.7/dist-packages (from JPype1>=0.7.0->konlpy) (4.1.1)\n",
            "Installing collected packages: JPype1, konlpy\n",
            "Successfully installed JPype1-1.4.0 konlpy-0.6.0\n"
          ]
        }
      ]
    },
    {
      "cell_type": "markdown",
      "metadata": {
        "id": "9G_ACS_lxzYE"
      },
      "source": [
        "### train 데이터 불러오기"
      ]
    },
    {
      "cell_type": "code",
      "execution_count": null,
      "metadata": {
        "id": "eReIcP8OxzYG",
        "colab": {
          "base_uri": "https://localhost:8080/",
          "height": 206
        },
        "outputId": "3df2cbec-8036-48b0-c863-ef46f7a2f075"
      },
      "outputs": [
        {
          "output_type": "execute_result",
          "data": {
            "text/plain": [
              "   id                                 document  label\n",
              "0   1                영상이나 음악이 이쁘다 해도 미화시킨 불륜일뿐      0\n",
              "1   2             히치콕이 이 영화를 봤다면 분명 박수를 쳤을듯...      1\n",
              "2   3     괜찮은 음악영화가 또 나왔군요!!! 따뜻한 겨울이 될 것 같아요~      1\n",
              "3   4              아무래도 20년도지난작품이라 지금보기는너무유치하다      0\n",
              "4   5  지금까지의 영화들이 그랬듯. 이 영화역시 일본에 대한 미화는 여전하다.      0"
            ],
            "text/html": [
              "\n",
              "  <div id=\"df-80971f8f-c745-4f85-8922-9283cbed6e37\">\n",
              "    <div class=\"colab-df-container\">\n",
              "      <div>\n",
              "<style scoped>\n",
              "    .dataframe tbody tr th:only-of-type {\n",
              "        vertical-align: middle;\n",
              "    }\n",
              "\n",
              "    .dataframe tbody tr th {\n",
              "        vertical-align: top;\n",
              "    }\n",
              "\n",
              "    .dataframe thead th {\n",
              "        text-align: right;\n",
              "    }\n",
              "</style>\n",
              "<table border=\"1\" class=\"dataframe\">\n",
              "  <thead>\n",
              "    <tr style=\"text-align: right;\">\n",
              "      <th></th>\n",
              "      <th>id</th>\n",
              "      <th>document</th>\n",
              "      <th>label</th>\n",
              "    </tr>\n",
              "  </thead>\n",
              "  <tbody>\n",
              "    <tr>\n",
              "      <th>0</th>\n",
              "      <td>1</td>\n",
              "      <td>영상이나 음악이 이쁘다 해도 미화시킨 불륜일뿐</td>\n",
              "      <td>0</td>\n",
              "    </tr>\n",
              "    <tr>\n",
              "      <th>1</th>\n",
              "      <td>2</td>\n",
              "      <td>히치콕이 이 영화를 봤다면 분명 박수를 쳤을듯...</td>\n",
              "      <td>1</td>\n",
              "    </tr>\n",
              "    <tr>\n",
              "      <th>2</th>\n",
              "      <td>3</td>\n",
              "      <td>괜찮은 음악영화가 또 나왔군요!!! 따뜻한 겨울이 될 것 같아요~</td>\n",
              "      <td>1</td>\n",
              "    </tr>\n",
              "    <tr>\n",
              "      <th>3</th>\n",
              "      <td>4</td>\n",
              "      <td>아무래도 20년도지난작품이라 지금보기는너무유치하다</td>\n",
              "      <td>0</td>\n",
              "    </tr>\n",
              "    <tr>\n",
              "      <th>4</th>\n",
              "      <td>5</td>\n",
              "      <td>지금까지의 영화들이 그랬듯. 이 영화역시 일본에 대한 미화는 여전하다.</td>\n",
              "      <td>0</td>\n",
              "    </tr>\n",
              "  </tbody>\n",
              "</table>\n",
              "</div>\n",
              "      <button class=\"colab-df-convert\" onclick=\"convertToInteractive('df-80971f8f-c745-4f85-8922-9283cbed6e37')\"\n",
              "              title=\"Convert this dataframe to an interactive table.\"\n",
              "              style=\"display:none;\">\n",
              "        \n",
              "  <svg xmlns=\"http://www.w3.org/2000/svg\" height=\"24px\"viewBox=\"0 0 24 24\"\n",
              "       width=\"24px\">\n",
              "    <path d=\"M0 0h24v24H0V0z\" fill=\"none\"/>\n",
              "    <path d=\"M18.56 5.44l.94 2.06.94-2.06 2.06-.94-2.06-.94-.94-2.06-.94 2.06-2.06.94zm-11 1L8.5 8.5l.94-2.06 2.06-.94-2.06-.94L8.5 2.5l-.94 2.06-2.06.94zm10 10l.94 2.06.94-2.06 2.06-.94-2.06-.94-.94-2.06-.94 2.06-2.06.94z\"/><path d=\"M17.41 7.96l-1.37-1.37c-.4-.4-.92-.59-1.43-.59-.52 0-1.04.2-1.43.59L10.3 9.45l-7.72 7.72c-.78.78-.78 2.05 0 2.83L4 21.41c.39.39.9.59 1.41.59.51 0 1.02-.2 1.41-.59l7.78-7.78 2.81-2.81c.8-.78.8-2.07 0-2.86zM5.41 20L4 18.59l7.72-7.72 1.47 1.35L5.41 20z\"/>\n",
              "  </svg>\n",
              "      </button>\n",
              "      \n",
              "  <style>\n",
              "    .colab-df-container {\n",
              "      display:flex;\n",
              "      flex-wrap:wrap;\n",
              "      gap: 12px;\n",
              "    }\n",
              "\n",
              "    .colab-df-convert {\n",
              "      background-color: #E8F0FE;\n",
              "      border: none;\n",
              "      border-radius: 50%;\n",
              "      cursor: pointer;\n",
              "      display: none;\n",
              "      fill: #1967D2;\n",
              "      height: 32px;\n",
              "      padding: 0 0 0 0;\n",
              "      width: 32px;\n",
              "    }\n",
              "\n",
              "    .colab-df-convert:hover {\n",
              "      background-color: #E2EBFA;\n",
              "      box-shadow: 0px 1px 2px rgba(60, 64, 67, 0.3), 0px 1px 3px 1px rgba(60, 64, 67, 0.15);\n",
              "      fill: #174EA6;\n",
              "    }\n",
              "\n",
              "    [theme=dark] .colab-df-convert {\n",
              "      background-color: #3B4455;\n",
              "      fill: #D2E3FC;\n",
              "    }\n",
              "\n",
              "    [theme=dark] .colab-df-convert:hover {\n",
              "      background-color: #434B5C;\n",
              "      box-shadow: 0px 1px 3px 1px rgba(0, 0, 0, 0.15);\n",
              "      filter: drop-shadow(0px 1px 2px rgba(0, 0, 0, 0.3));\n",
              "      fill: #FFFFFF;\n",
              "    }\n",
              "  </style>\n",
              "\n",
              "      <script>\n",
              "        const buttonEl =\n",
              "          document.querySelector('#df-80971f8f-c745-4f85-8922-9283cbed6e37 button.colab-df-convert');\n",
              "        buttonEl.style.display =\n",
              "          google.colab.kernel.accessAllowed ? 'block' : 'none';\n",
              "\n",
              "        async function convertToInteractive(key) {\n",
              "          const element = document.querySelector('#df-80971f8f-c745-4f85-8922-9283cbed6e37');\n",
              "          const dataTable =\n",
              "            await google.colab.kernel.invokeFunction('convertToInteractive',\n",
              "                                                     [key], {});\n",
              "          if (!dataTable) return;\n",
              "\n",
              "          const docLinkHtml = 'Like what you see? Visit the ' +\n",
              "            '<a target=\"_blank\" href=https://colab.research.google.com/notebooks/data_table.ipynb>data table notebook</a>'\n",
              "            + ' to learn more about interactive tables.';\n",
              "          element.innerHTML = '';\n",
              "          dataTable['output_type'] = 'display_data';\n",
              "          await google.colab.output.renderOutput(dataTable, element);\n",
              "          const docLink = document.createElement('div');\n",
              "          docLink.innerHTML = docLinkHtml;\n",
              "          element.appendChild(docLink);\n",
              "        }\n",
              "      </script>\n",
              "    </div>\n",
              "  </div>\n",
              "  "
            ]
          },
          "metadata": {},
          "execution_count": 5
        }
      ],
      "source": [
        "data = pd.read_csv('/content/drive/MyDrive/ColabNotebooks/YBIGTA/교육세션/20220806/train.csv') # train 데이터 불러오기\n",
        "data.head() # 데이터 확인하기: 긍정인지 부정인지 label이 되어 있음"
      ]
    },
    {
      "cell_type": "code",
      "execution_count": null,
      "metadata": {
        "id": "bGlSZrSRxzYI",
        "colab": {
          "base_uri": "https://localhost:8080/"
        },
        "outputId": "92ac4a22-9b9e-45cd-d493-fdbb7f20b7f7"
      },
      "outputs": [
        {
          "output_type": "execute_result",
          "data": {
            "text/plain": [
              "id          0\n",
              "document    0\n",
              "label       0\n",
              "dtype: int64"
            ]
          },
          "metadata": {},
          "execution_count": 6
        }
      ],
      "source": [
        "data.isna().sum() # 결측치 확인"
      ]
    },
    {
      "cell_type": "markdown",
      "metadata": {
        "id": "rbSsR-e8xzYO"
      },
      "source": [
        "### 학습/검증셋 분리하기\n",
        "\n",
        "모델링 후 성능을 검증하기 위해 학습셋과 검증셋으로 train 데이터를 나눠줍니다."
      ]
    },
    {
      "cell_type": "code",
      "execution_count": null,
      "metadata": {
        "id": "rQ-PrYtXxzYR"
      },
      "outputs": [],
      "source": [
        "from sklearn.model_selection import train_test_split\n",
        "\n",
        "train, val = train_test_split(data)\n",
        "train.reset_index(inplace=True) # 전처리 과정에서 데이터가 뒤섞이지 않도록 인덱스를 초기화해주었습니다.\n",
        "val.reset_index(inplace=True)"
      ]
    },
    {
      "cell_type": "code",
      "execution_count": null,
      "metadata": {
        "id": "6yoxgB2CxzYT",
        "colab": {
          "base_uri": "https://localhost:8080/",
          "height": 424
        },
        "outputId": "487b2433-06f0-4cc4-a46e-94ccb84f396a"
      },
      "outputs": [
        {
          "output_type": "execute_result",
          "data": {
            "text/plain": [
              "      index    id                             document  label\n",
              "0      1270  1271                 단지 알몸일 뿐, 특별한 느낌 없음.      0\n",
              "1       732   733                 1편의그대단함은 도대체 어딨는거야..      0\n",
              "2       500   501      램버트를 주인공으로 멋진 B급 액션도 가능했을텐데 아쉽다      0\n",
              "3      1478  1479        제이크 니가 심형래냐? 혼자 각본, 연출, 감독하게?      0\n",
              "4      1013  1014                 서로가 서로에게 결핍된 장면의 조각들      1\n",
              "...     ...   ...                                  ...    ...\n",
              "3745    588   589               캐나다 관광 홍보 영상물에 뻔한 스토리.      0\n",
              "3746   2643  2644              이병헌은 이런 b급영화에 출연하고싶었을까?      0\n",
              "3747   2637  2638                    좋은 영화입니다. 많이 보세요.      1\n",
              "3748   1498  1499  베트남의 역사서를 풍경과 함께 보는듯하네.초딩들은 더 크고 봐라      1\n",
              "3749   1877  1878             차라리 조석의 마음의 소리나 보는게 유익하다      0\n",
              "\n",
              "[3750 rows x 4 columns]"
            ],
            "text/html": [
              "\n",
              "  <div id=\"df-9b0e5fea-6425-4d6b-b942-246560b3bb95\">\n",
              "    <div class=\"colab-df-container\">\n",
              "      <div>\n",
              "<style scoped>\n",
              "    .dataframe tbody tr th:only-of-type {\n",
              "        vertical-align: middle;\n",
              "    }\n",
              "\n",
              "    .dataframe tbody tr th {\n",
              "        vertical-align: top;\n",
              "    }\n",
              "\n",
              "    .dataframe thead th {\n",
              "        text-align: right;\n",
              "    }\n",
              "</style>\n",
              "<table border=\"1\" class=\"dataframe\">\n",
              "  <thead>\n",
              "    <tr style=\"text-align: right;\">\n",
              "      <th></th>\n",
              "      <th>index</th>\n",
              "      <th>id</th>\n",
              "      <th>document</th>\n",
              "      <th>label</th>\n",
              "    </tr>\n",
              "  </thead>\n",
              "  <tbody>\n",
              "    <tr>\n",
              "      <th>0</th>\n",
              "      <td>1270</td>\n",
              "      <td>1271</td>\n",
              "      <td>단지 알몸일 뿐, 특별한 느낌 없음.</td>\n",
              "      <td>0</td>\n",
              "    </tr>\n",
              "    <tr>\n",
              "      <th>1</th>\n",
              "      <td>732</td>\n",
              "      <td>733</td>\n",
              "      <td>1편의그대단함은 도대체 어딨는거야..</td>\n",
              "      <td>0</td>\n",
              "    </tr>\n",
              "    <tr>\n",
              "      <th>2</th>\n",
              "      <td>500</td>\n",
              "      <td>501</td>\n",
              "      <td>램버트를 주인공으로 멋진 B급 액션도 가능했을텐데 아쉽다</td>\n",
              "      <td>0</td>\n",
              "    </tr>\n",
              "    <tr>\n",
              "      <th>3</th>\n",
              "      <td>1478</td>\n",
              "      <td>1479</td>\n",
              "      <td>제이크 니가 심형래냐? 혼자 각본, 연출, 감독하게?</td>\n",
              "      <td>0</td>\n",
              "    </tr>\n",
              "    <tr>\n",
              "      <th>4</th>\n",
              "      <td>1013</td>\n",
              "      <td>1014</td>\n",
              "      <td>서로가 서로에게 결핍된 장면의 조각들</td>\n",
              "      <td>1</td>\n",
              "    </tr>\n",
              "    <tr>\n",
              "      <th>...</th>\n",
              "      <td>...</td>\n",
              "      <td>...</td>\n",
              "      <td>...</td>\n",
              "      <td>...</td>\n",
              "    </tr>\n",
              "    <tr>\n",
              "      <th>3745</th>\n",
              "      <td>588</td>\n",
              "      <td>589</td>\n",
              "      <td>캐나다 관광 홍보 영상물에 뻔한 스토리.</td>\n",
              "      <td>0</td>\n",
              "    </tr>\n",
              "    <tr>\n",
              "      <th>3746</th>\n",
              "      <td>2643</td>\n",
              "      <td>2644</td>\n",
              "      <td>이병헌은 이런 b급영화에 출연하고싶었을까?</td>\n",
              "      <td>0</td>\n",
              "    </tr>\n",
              "    <tr>\n",
              "      <th>3747</th>\n",
              "      <td>2637</td>\n",
              "      <td>2638</td>\n",
              "      <td>좋은 영화입니다. 많이 보세요.</td>\n",
              "      <td>1</td>\n",
              "    </tr>\n",
              "    <tr>\n",
              "      <th>3748</th>\n",
              "      <td>1498</td>\n",
              "      <td>1499</td>\n",
              "      <td>베트남의 역사서를 풍경과 함께 보는듯하네.초딩들은 더 크고 봐라</td>\n",
              "      <td>1</td>\n",
              "    </tr>\n",
              "    <tr>\n",
              "      <th>3749</th>\n",
              "      <td>1877</td>\n",
              "      <td>1878</td>\n",
              "      <td>차라리 조석의 마음의 소리나 보는게 유익하다</td>\n",
              "      <td>0</td>\n",
              "    </tr>\n",
              "  </tbody>\n",
              "</table>\n",
              "<p>3750 rows × 4 columns</p>\n",
              "</div>\n",
              "      <button class=\"colab-df-convert\" onclick=\"convertToInteractive('df-9b0e5fea-6425-4d6b-b942-246560b3bb95')\"\n",
              "              title=\"Convert this dataframe to an interactive table.\"\n",
              "              style=\"display:none;\">\n",
              "        \n",
              "  <svg xmlns=\"http://www.w3.org/2000/svg\" height=\"24px\"viewBox=\"0 0 24 24\"\n",
              "       width=\"24px\">\n",
              "    <path d=\"M0 0h24v24H0V0z\" fill=\"none\"/>\n",
              "    <path d=\"M18.56 5.44l.94 2.06.94-2.06 2.06-.94-2.06-.94-.94-2.06-.94 2.06-2.06.94zm-11 1L8.5 8.5l.94-2.06 2.06-.94-2.06-.94L8.5 2.5l-.94 2.06-2.06.94zm10 10l.94 2.06.94-2.06 2.06-.94-2.06-.94-.94-2.06-.94 2.06-2.06.94z\"/><path d=\"M17.41 7.96l-1.37-1.37c-.4-.4-.92-.59-1.43-.59-.52 0-1.04.2-1.43.59L10.3 9.45l-7.72 7.72c-.78.78-.78 2.05 0 2.83L4 21.41c.39.39.9.59 1.41.59.51 0 1.02-.2 1.41-.59l7.78-7.78 2.81-2.81c.8-.78.8-2.07 0-2.86zM5.41 20L4 18.59l7.72-7.72 1.47 1.35L5.41 20z\"/>\n",
              "  </svg>\n",
              "      </button>\n",
              "      \n",
              "  <style>\n",
              "    .colab-df-container {\n",
              "      display:flex;\n",
              "      flex-wrap:wrap;\n",
              "      gap: 12px;\n",
              "    }\n",
              "\n",
              "    .colab-df-convert {\n",
              "      background-color: #E8F0FE;\n",
              "      border: none;\n",
              "      border-radius: 50%;\n",
              "      cursor: pointer;\n",
              "      display: none;\n",
              "      fill: #1967D2;\n",
              "      height: 32px;\n",
              "      padding: 0 0 0 0;\n",
              "      width: 32px;\n",
              "    }\n",
              "\n",
              "    .colab-df-convert:hover {\n",
              "      background-color: #E2EBFA;\n",
              "      box-shadow: 0px 1px 2px rgba(60, 64, 67, 0.3), 0px 1px 3px 1px rgba(60, 64, 67, 0.15);\n",
              "      fill: #174EA6;\n",
              "    }\n",
              "\n",
              "    [theme=dark] .colab-df-convert {\n",
              "      background-color: #3B4455;\n",
              "      fill: #D2E3FC;\n",
              "    }\n",
              "\n",
              "    [theme=dark] .colab-df-convert:hover {\n",
              "      background-color: #434B5C;\n",
              "      box-shadow: 0px 1px 3px 1px rgba(0, 0, 0, 0.15);\n",
              "      filter: drop-shadow(0px 1px 2px rgba(0, 0, 0, 0.3));\n",
              "      fill: #FFFFFF;\n",
              "    }\n",
              "  </style>\n",
              "\n",
              "      <script>\n",
              "        const buttonEl =\n",
              "          document.querySelector('#df-9b0e5fea-6425-4d6b-b942-246560b3bb95 button.colab-df-convert');\n",
              "        buttonEl.style.display =\n",
              "          google.colab.kernel.accessAllowed ? 'block' : 'none';\n",
              "\n",
              "        async function convertToInteractive(key) {\n",
              "          const element = document.querySelector('#df-9b0e5fea-6425-4d6b-b942-246560b3bb95');\n",
              "          const dataTable =\n",
              "            await google.colab.kernel.invokeFunction('convertToInteractive',\n",
              "                                                     [key], {});\n",
              "          if (!dataTable) return;\n",
              "\n",
              "          const docLinkHtml = 'Like what you see? Visit the ' +\n",
              "            '<a target=\"_blank\" href=https://colab.research.google.com/notebooks/data_table.ipynb>data table notebook</a>'\n",
              "            + ' to learn more about interactive tables.';\n",
              "          element.innerHTML = '';\n",
              "          dataTable['output_type'] = 'display_data';\n",
              "          await google.colab.output.renderOutput(dataTable, element);\n",
              "          const docLink = document.createElement('div');\n",
              "          docLink.innerHTML = docLinkHtml;\n",
              "          element.appendChild(docLink);\n",
              "        }\n",
              "      </script>\n",
              "    </div>\n",
              "  </div>\n",
              "  "
            ]
          },
          "metadata": {},
          "execution_count": 8
        }
      ],
      "source": [
        "train # train 셋 확인"
      ]
    },
    {
      "cell_type": "markdown",
      "metadata": {
        "id": "KdPHRQ5NxzYU"
      },
      "source": [
        "### 데이터 정제하기\n",
        "\n",
        "\n",
        "가장 먼저 한글과 공백만 남긴 뒤 preprocessed라는 컬럼으로 저장하겠습니다."
      ]
    },
    {
      "cell_type": "code",
      "execution_count": null,
      "metadata": {
        "id": "GugwWi7bxzYV",
        "outputId": "1b92c4e9-d591-41d6-95f3-7373c2e7a261",
        "colab": {
          "base_uri": "https://localhost:8080/",
          "height": 206
        }
      },
      "outputs": [
        {
          "output_type": "execute_result",
          "data": {
            "text/plain": [
              "   index    id                         document  label  \\\n",
              "0   1270  1271             단지 알몸일 뿐, 특별한 느낌 없음.      0   \n",
              "1    732   733             1편의그대단함은 도대체 어딨는거야..      0   \n",
              "2    500   501  램버트를 주인공으로 멋진 B급 액션도 가능했을텐데 아쉽다      0   \n",
              "3   1478  1479    제이크 니가 심형래냐? 혼자 각본, 연출, 감독하게?      0   \n",
              "4   1013  1014             서로가 서로에게 결핍된 장면의 조각들      1   \n",
              "\n",
              "                     preprocessed  \n",
              "0              단지 알몸일 뿐 특별한 느낌 없음  \n",
              "1               편의그대단함은 도대체 어딨는거야  \n",
              "2  램버트를 주인공으로 멋진 급 액션도 가능했을텐데 아쉽다  \n",
              "3       제이크 니가 심형래냐 혼자 각본 연출 감독하게  \n",
              "4            서로가 서로에게 결핍된 장면의 조각들  "
            ],
            "text/html": [
              "\n",
              "  <div id=\"df-8420fd5b-3ee4-40cf-bb03-e9afd2b16859\">\n",
              "    <div class=\"colab-df-container\">\n",
              "      <div>\n",
              "<style scoped>\n",
              "    .dataframe tbody tr th:only-of-type {\n",
              "        vertical-align: middle;\n",
              "    }\n",
              "\n",
              "    .dataframe tbody tr th {\n",
              "        vertical-align: top;\n",
              "    }\n",
              "\n",
              "    .dataframe thead th {\n",
              "        text-align: right;\n",
              "    }\n",
              "</style>\n",
              "<table border=\"1\" class=\"dataframe\">\n",
              "  <thead>\n",
              "    <tr style=\"text-align: right;\">\n",
              "      <th></th>\n",
              "      <th>index</th>\n",
              "      <th>id</th>\n",
              "      <th>document</th>\n",
              "      <th>label</th>\n",
              "      <th>preprocessed</th>\n",
              "    </tr>\n",
              "  </thead>\n",
              "  <tbody>\n",
              "    <tr>\n",
              "      <th>0</th>\n",
              "      <td>1270</td>\n",
              "      <td>1271</td>\n",
              "      <td>단지 알몸일 뿐, 특별한 느낌 없음.</td>\n",
              "      <td>0</td>\n",
              "      <td>단지 알몸일 뿐 특별한 느낌 없음</td>\n",
              "    </tr>\n",
              "    <tr>\n",
              "      <th>1</th>\n",
              "      <td>732</td>\n",
              "      <td>733</td>\n",
              "      <td>1편의그대단함은 도대체 어딨는거야..</td>\n",
              "      <td>0</td>\n",
              "      <td>편의그대단함은 도대체 어딨는거야</td>\n",
              "    </tr>\n",
              "    <tr>\n",
              "      <th>2</th>\n",
              "      <td>500</td>\n",
              "      <td>501</td>\n",
              "      <td>램버트를 주인공으로 멋진 B급 액션도 가능했을텐데 아쉽다</td>\n",
              "      <td>0</td>\n",
              "      <td>램버트를 주인공으로 멋진 급 액션도 가능했을텐데 아쉽다</td>\n",
              "    </tr>\n",
              "    <tr>\n",
              "      <th>3</th>\n",
              "      <td>1478</td>\n",
              "      <td>1479</td>\n",
              "      <td>제이크 니가 심형래냐? 혼자 각본, 연출, 감독하게?</td>\n",
              "      <td>0</td>\n",
              "      <td>제이크 니가 심형래냐 혼자 각본 연출 감독하게</td>\n",
              "    </tr>\n",
              "    <tr>\n",
              "      <th>4</th>\n",
              "      <td>1013</td>\n",
              "      <td>1014</td>\n",
              "      <td>서로가 서로에게 결핍된 장면의 조각들</td>\n",
              "      <td>1</td>\n",
              "      <td>서로가 서로에게 결핍된 장면의 조각들</td>\n",
              "    </tr>\n",
              "  </tbody>\n",
              "</table>\n",
              "</div>\n",
              "      <button class=\"colab-df-convert\" onclick=\"convertToInteractive('df-8420fd5b-3ee4-40cf-bb03-e9afd2b16859')\"\n",
              "              title=\"Convert this dataframe to an interactive table.\"\n",
              "              style=\"display:none;\">\n",
              "        \n",
              "  <svg xmlns=\"http://www.w3.org/2000/svg\" height=\"24px\"viewBox=\"0 0 24 24\"\n",
              "       width=\"24px\">\n",
              "    <path d=\"M0 0h24v24H0V0z\" fill=\"none\"/>\n",
              "    <path d=\"M18.56 5.44l.94 2.06.94-2.06 2.06-.94-2.06-.94-.94-2.06-.94 2.06-2.06.94zm-11 1L8.5 8.5l.94-2.06 2.06-.94-2.06-.94L8.5 2.5l-.94 2.06-2.06.94zm10 10l.94 2.06.94-2.06 2.06-.94-2.06-.94-.94-2.06-.94 2.06-2.06.94z\"/><path d=\"M17.41 7.96l-1.37-1.37c-.4-.4-.92-.59-1.43-.59-.52 0-1.04.2-1.43.59L10.3 9.45l-7.72 7.72c-.78.78-.78 2.05 0 2.83L4 21.41c.39.39.9.59 1.41.59.51 0 1.02-.2 1.41-.59l7.78-7.78 2.81-2.81c.8-.78.8-2.07 0-2.86zM5.41 20L4 18.59l7.72-7.72 1.47 1.35L5.41 20z\"/>\n",
              "  </svg>\n",
              "      </button>\n",
              "      \n",
              "  <style>\n",
              "    .colab-df-container {\n",
              "      display:flex;\n",
              "      flex-wrap:wrap;\n",
              "      gap: 12px;\n",
              "    }\n",
              "\n",
              "    .colab-df-convert {\n",
              "      background-color: #E8F0FE;\n",
              "      border: none;\n",
              "      border-radius: 50%;\n",
              "      cursor: pointer;\n",
              "      display: none;\n",
              "      fill: #1967D2;\n",
              "      height: 32px;\n",
              "      padding: 0 0 0 0;\n",
              "      width: 32px;\n",
              "    }\n",
              "\n",
              "    .colab-df-convert:hover {\n",
              "      background-color: #E2EBFA;\n",
              "      box-shadow: 0px 1px 2px rgba(60, 64, 67, 0.3), 0px 1px 3px 1px rgba(60, 64, 67, 0.15);\n",
              "      fill: #174EA6;\n",
              "    }\n",
              "\n",
              "    [theme=dark] .colab-df-convert {\n",
              "      background-color: #3B4455;\n",
              "      fill: #D2E3FC;\n",
              "    }\n",
              "\n",
              "    [theme=dark] .colab-df-convert:hover {\n",
              "      background-color: #434B5C;\n",
              "      box-shadow: 0px 1px 3px 1px rgba(0, 0, 0, 0.15);\n",
              "      filter: drop-shadow(0px 1px 2px rgba(0, 0, 0, 0.3));\n",
              "      fill: #FFFFFF;\n",
              "    }\n",
              "  </style>\n",
              "\n",
              "      <script>\n",
              "        const buttonEl =\n",
              "          document.querySelector('#df-8420fd5b-3ee4-40cf-bb03-e9afd2b16859 button.colab-df-convert');\n",
              "        buttonEl.style.display =\n",
              "          google.colab.kernel.accessAllowed ? 'block' : 'none';\n",
              "\n",
              "        async function convertToInteractive(key) {\n",
              "          const element = document.querySelector('#df-8420fd5b-3ee4-40cf-bb03-e9afd2b16859');\n",
              "          const dataTable =\n",
              "            await google.colab.kernel.invokeFunction('convertToInteractive',\n",
              "                                                     [key], {});\n",
              "          if (!dataTable) return;\n",
              "\n",
              "          const docLinkHtml = 'Like what you see? Visit the ' +\n",
              "            '<a target=\"_blank\" href=https://colab.research.google.com/notebooks/data_table.ipynb>data table notebook</a>'\n",
              "            + ' to learn more about interactive tables.';\n",
              "          element.innerHTML = '';\n",
              "          dataTable['output_type'] = 'display_data';\n",
              "          await google.colab.output.renderOutput(dataTable, element);\n",
              "          const docLink = document.createElement('div');\n",
              "          docLink.innerHTML = docLinkHtml;\n",
              "          element.appendChild(docLink);\n",
              "        }\n",
              "      </script>\n",
              "    </div>\n",
              "  </div>\n",
              "  "
            ]
          },
          "metadata": {},
          "execution_count": 12
        }
      ],
      "source": [
        "train['preprocessed'] = train['document'].str.replace(\"[^ㄱ-ㅎㅏ-ㅣ가-힣 ]\",\"\") # 한글과 공백을 제외(^)하고 모두 제거\n",
        "train[:5] # 데이터 확인"
      ]
    },
    {
      "cell_type": "markdown",
      "metadata": {
        "id": "kkXkev1txzYX"
      },
      "source": [
        "추가적으로 혹시 모를 다중공백도 제거해줍니다."
      ]
    },
    {
      "cell_type": "code",
      "execution_count": null,
      "metadata": {
        "id": "8dSULak6xzYY",
        "outputId": "fb0abd29-21df-46bf-9eca-d7441a3d048a",
        "colab": {
          "base_uri": "https://localhost:8080/",
          "height": 206
        }
      },
      "outputs": [
        {
          "output_type": "execute_result",
          "data": {
            "text/plain": [
              "   index    id                         document  label  \\\n",
              "0   1270  1271             단지 알몸일 뿐, 특별한 느낌 없음.      0   \n",
              "1    732   733             1편의그대단함은 도대체 어딨는거야..      0   \n",
              "2    500   501  램버트를 주인공으로 멋진 B급 액션도 가능했을텐데 아쉽다      0   \n",
              "3   1478  1479    제이크 니가 심형래냐? 혼자 각본, 연출, 감독하게?      0   \n",
              "4   1013  1014             서로가 서로에게 결핍된 장면의 조각들      1   \n",
              "\n",
              "                     preprocessed  \n",
              "0              단지 알몸일 뿐 특별한 느낌 없음  \n",
              "1               편의그대단함은 도대체 어딨는거야  \n",
              "2  램버트를 주인공으로 멋진 급 액션도 가능했을텐데 아쉽다  \n",
              "3       제이크 니가 심형래냐 혼자 각본 연출 감독하게  \n",
              "4            서로가 서로에게 결핍된 장면의 조각들  "
            ],
            "text/html": [
              "\n",
              "  <div id=\"df-69692908-9a62-46ed-8781-df9a72dc1de5\">\n",
              "    <div class=\"colab-df-container\">\n",
              "      <div>\n",
              "<style scoped>\n",
              "    .dataframe tbody tr th:only-of-type {\n",
              "        vertical-align: middle;\n",
              "    }\n",
              "\n",
              "    .dataframe tbody tr th {\n",
              "        vertical-align: top;\n",
              "    }\n",
              "\n",
              "    .dataframe thead th {\n",
              "        text-align: right;\n",
              "    }\n",
              "</style>\n",
              "<table border=\"1\" class=\"dataframe\">\n",
              "  <thead>\n",
              "    <tr style=\"text-align: right;\">\n",
              "      <th></th>\n",
              "      <th>index</th>\n",
              "      <th>id</th>\n",
              "      <th>document</th>\n",
              "      <th>label</th>\n",
              "      <th>preprocessed</th>\n",
              "    </tr>\n",
              "  </thead>\n",
              "  <tbody>\n",
              "    <tr>\n",
              "      <th>0</th>\n",
              "      <td>1270</td>\n",
              "      <td>1271</td>\n",
              "      <td>단지 알몸일 뿐, 특별한 느낌 없음.</td>\n",
              "      <td>0</td>\n",
              "      <td>단지 알몸일 뿐 특별한 느낌 없음</td>\n",
              "    </tr>\n",
              "    <tr>\n",
              "      <th>1</th>\n",
              "      <td>732</td>\n",
              "      <td>733</td>\n",
              "      <td>1편의그대단함은 도대체 어딨는거야..</td>\n",
              "      <td>0</td>\n",
              "      <td>편의그대단함은 도대체 어딨는거야</td>\n",
              "    </tr>\n",
              "    <tr>\n",
              "      <th>2</th>\n",
              "      <td>500</td>\n",
              "      <td>501</td>\n",
              "      <td>램버트를 주인공으로 멋진 B급 액션도 가능했을텐데 아쉽다</td>\n",
              "      <td>0</td>\n",
              "      <td>램버트를 주인공으로 멋진 급 액션도 가능했을텐데 아쉽다</td>\n",
              "    </tr>\n",
              "    <tr>\n",
              "      <th>3</th>\n",
              "      <td>1478</td>\n",
              "      <td>1479</td>\n",
              "      <td>제이크 니가 심형래냐? 혼자 각본, 연출, 감독하게?</td>\n",
              "      <td>0</td>\n",
              "      <td>제이크 니가 심형래냐 혼자 각본 연출 감독하게</td>\n",
              "    </tr>\n",
              "    <tr>\n",
              "      <th>4</th>\n",
              "      <td>1013</td>\n",
              "      <td>1014</td>\n",
              "      <td>서로가 서로에게 결핍된 장면의 조각들</td>\n",
              "      <td>1</td>\n",
              "      <td>서로가 서로에게 결핍된 장면의 조각들</td>\n",
              "    </tr>\n",
              "  </tbody>\n",
              "</table>\n",
              "</div>\n",
              "      <button class=\"colab-df-convert\" onclick=\"convertToInteractive('df-69692908-9a62-46ed-8781-df9a72dc1de5')\"\n",
              "              title=\"Convert this dataframe to an interactive table.\"\n",
              "              style=\"display:none;\">\n",
              "        \n",
              "  <svg xmlns=\"http://www.w3.org/2000/svg\" height=\"24px\"viewBox=\"0 0 24 24\"\n",
              "       width=\"24px\">\n",
              "    <path d=\"M0 0h24v24H0V0z\" fill=\"none\"/>\n",
              "    <path d=\"M18.56 5.44l.94 2.06.94-2.06 2.06-.94-2.06-.94-.94-2.06-.94 2.06-2.06.94zm-11 1L8.5 8.5l.94-2.06 2.06-.94-2.06-.94L8.5 2.5l-.94 2.06-2.06.94zm10 10l.94 2.06.94-2.06 2.06-.94-2.06-.94-.94-2.06-.94 2.06-2.06.94z\"/><path d=\"M17.41 7.96l-1.37-1.37c-.4-.4-.92-.59-1.43-.59-.52 0-1.04.2-1.43.59L10.3 9.45l-7.72 7.72c-.78.78-.78 2.05 0 2.83L4 21.41c.39.39.9.59 1.41.59.51 0 1.02-.2 1.41-.59l7.78-7.78 2.81-2.81c.8-.78.8-2.07 0-2.86zM5.41 20L4 18.59l7.72-7.72 1.47 1.35L5.41 20z\"/>\n",
              "  </svg>\n",
              "      </button>\n",
              "      \n",
              "  <style>\n",
              "    .colab-df-container {\n",
              "      display:flex;\n",
              "      flex-wrap:wrap;\n",
              "      gap: 12px;\n",
              "    }\n",
              "\n",
              "    .colab-df-convert {\n",
              "      background-color: #E8F0FE;\n",
              "      border: none;\n",
              "      border-radius: 50%;\n",
              "      cursor: pointer;\n",
              "      display: none;\n",
              "      fill: #1967D2;\n",
              "      height: 32px;\n",
              "      padding: 0 0 0 0;\n",
              "      width: 32px;\n",
              "    }\n",
              "\n",
              "    .colab-df-convert:hover {\n",
              "      background-color: #E2EBFA;\n",
              "      box-shadow: 0px 1px 2px rgba(60, 64, 67, 0.3), 0px 1px 3px 1px rgba(60, 64, 67, 0.15);\n",
              "      fill: #174EA6;\n",
              "    }\n",
              "\n",
              "    [theme=dark] .colab-df-convert {\n",
              "      background-color: #3B4455;\n",
              "      fill: #D2E3FC;\n",
              "    }\n",
              "\n",
              "    [theme=dark] .colab-df-convert:hover {\n",
              "      background-color: #434B5C;\n",
              "      box-shadow: 0px 1px 3px 1px rgba(0, 0, 0, 0.15);\n",
              "      filter: drop-shadow(0px 1px 2px rgba(0, 0, 0, 0.3));\n",
              "      fill: #FFFFFF;\n",
              "    }\n",
              "  </style>\n",
              "\n",
              "      <script>\n",
              "        const buttonEl =\n",
              "          document.querySelector('#df-69692908-9a62-46ed-8781-df9a72dc1de5 button.colab-df-convert');\n",
              "        buttonEl.style.display =\n",
              "          google.colab.kernel.accessAllowed ? 'block' : 'none';\n",
              "\n",
              "        async function convertToInteractive(key) {\n",
              "          const element = document.querySelector('#df-69692908-9a62-46ed-8781-df9a72dc1de5');\n",
              "          const dataTable =\n",
              "            await google.colab.kernel.invokeFunction('convertToInteractive',\n",
              "                                                     [key], {});\n",
              "          if (!dataTable) return;\n",
              "\n",
              "          const docLinkHtml = 'Like what you see? Visit the ' +\n",
              "            '<a target=\"_blank\" href=https://colab.research.google.com/notebooks/data_table.ipynb>data table notebook</a>'\n",
              "            + ' to learn more about interactive tables.';\n",
              "          element.innerHTML = '';\n",
              "          dataTable['output_type'] = 'display_data';\n",
              "          await google.colab.output.renderOutput(dataTable, element);\n",
              "          const docLink = document.createElement('div');\n",
              "          docLink.innerHTML = docLinkHtml;\n",
              "          element.appendChild(docLink);\n",
              "        }\n",
              "      </script>\n",
              "    </div>\n",
              "  </div>\n",
              "  "
            ]
          },
          "metadata": {},
          "execution_count": 13
        }
      ],
      "source": [
        "train['preprocessed'] = train['preprocessed'].str.replace(\" +\", \" \") # 다중 공백 제거\n",
        "train[:5] # 데이터 확인"
      ]
    },
    {
      "cell_type": "markdown",
      "metadata": {
        "id": "lC08EGCIxzYZ"
      },
      "source": [
        "### 토큰화"
      ]
    },
    {
      "cell_type": "markdown",
      "metadata": {
        "id": "GXUOomhpxzYe"
      },
      "source": [
        "#### 한국어에서의 토큰화\n",
        "\n",
        "한국어는 영어와 달리 형태소(뜻을 가진 말의 최소 단위)간의 결합으로 어절이 이루어집니다. ex) 철수 -가 책 -을 읽- -었- -다\n",
        "\n",
        "따라서 한국어 전용 형태소 분석기가 많이 존재하는데요, 이번에는 koNLPy라는 패키지의 Okt라는 형태소 분석기를 사용해보겠습니다."
      ]
    },
    {
      "cell_type": "markdown",
      "metadata": {
        "id": "4pTwnP67xzYg"
      },
      "source": [
        "이제 영화 리뷰 데이터에서 같은 방법으로 형태소 분석을 해볼까요?"
      ]
    },
    {
      "cell_type": "code",
      "source": [
        "from konlpy.tag import Okt\n",
        "okt = Okt()"
      ],
      "metadata": {
        "id": "ppx0qFvibpBu"
      },
      "execution_count": null,
      "outputs": []
    },
    {
      "cell_type": "code",
      "execution_count": null,
      "metadata": {
        "id": "naE0N0cIxzYg",
        "outputId": "5f52394d-1190-4147-99c6-084c07ee671e",
        "colab": {
          "base_uri": "https://localhost:8080/",
          "height": 206
        }
      },
      "outputs": [
        {
          "output_type": "execute_result",
          "data": {
            "text/plain": [
              "   index    id                         document  label  \\\n",
              "0   1270  1271             단지 알몸일 뿐, 특별한 느낌 없음.      0   \n",
              "1    732   733             1편의그대단함은 도대체 어딨는거야..      0   \n",
              "2    500   501  램버트를 주인공으로 멋진 B급 액션도 가능했을텐데 아쉽다      0   \n",
              "3   1478  1479    제이크 니가 심형래냐? 혼자 각본, 연출, 감독하게?      0   \n",
              "4   1013  1014             서로가 서로에게 결핍된 장면의 조각들      1   \n",
              "\n",
              "                     preprocessed                    tokenized_stem  \n",
              "0              단지 알몸일 뿐 특별한 느낌 없음              단지 알몸 일 뿐 특별하다 느낌 없다  \n",
              "1               편의그대단함은 도대체 어딨는거야                 편의 그 대단하다 도대체 어딨다  \n",
              "2  램버트를 주인공으로 멋진 급 액션도 가능했을텐데 아쉽다  램버트 를 주인공 으로 멋지다 급 액션 도 가능하다 아쉽다  \n",
              "3       제이크 니가 심형래냐 혼자 각본 연출 감독하게      제이크 니 가 심형래 냐 혼자 각본 연출 감독 하다  \n",
              "4            서로가 서로에게 결핍된 장면의 조각들        서로 가 서로 에게 결핍 되다 장면 의 조각 들  "
            ],
            "text/html": [
              "\n",
              "  <div id=\"df-248598ee-a7ab-4db2-b785-1e7797fd7818\">\n",
              "    <div class=\"colab-df-container\">\n",
              "      <div>\n",
              "<style scoped>\n",
              "    .dataframe tbody tr th:only-of-type {\n",
              "        vertical-align: middle;\n",
              "    }\n",
              "\n",
              "    .dataframe tbody tr th {\n",
              "        vertical-align: top;\n",
              "    }\n",
              "\n",
              "    .dataframe thead th {\n",
              "        text-align: right;\n",
              "    }\n",
              "</style>\n",
              "<table border=\"1\" class=\"dataframe\">\n",
              "  <thead>\n",
              "    <tr style=\"text-align: right;\">\n",
              "      <th></th>\n",
              "      <th>index</th>\n",
              "      <th>id</th>\n",
              "      <th>document</th>\n",
              "      <th>label</th>\n",
              "      <th>preprocessed</th>\n",
              "      <th>tokenized_stem</th>\n",
              "    </tr>\n",
              "  </thead>\n",
              "  <tbody>\n",
              "    <tr>\n",
              "      <th>0</th>\n",
              "      <td>1270</td>\n",
              "      <td>1271</td>\n",
              "      <td>단지 알몸일 뿐, 특별한 느낌 없음.</td>\n",
              "      <td>0</td>\n",
              "      <td>단지 알몸일 뿐 특별한 느낌 없음</td>\n",
              "      <td>단지 알몸 일 뿐 특별하다 느낌 없다</td>\n",
              "    </tr>\n",
              "    <tr>\n",
              "      <th>1</th>\n",
              "      <td>732</td>\n",
              "      <td>733</td>\n",
              "      <td>1편의그대단함은 도대체 어딨는거야..</td>\n",
              "      <td>0</td>\n",
              "      <td>편의그대단함은 도대체 어딨는거야</td>\n",
              "      <td>편의 그 대단하다 도대체 어딨다</td>\n",
              "    </tr>\n",
              "    <tr>\n",
              "      <th>2</th>\n",
              "      <td>500</td>\n",
              "      <td>501</td>\n",
              "      <td>램버트를 주인공으로 멋진 B급 액션도 가능했을텐데 아쉽다</td>\n",
              "      <td>0</td>\n",
              "      <td>램버트를 주인공으로 멋진 급 액션도 가능했을텐데 아쉽다</td>\n",
              "      <td>램버트 를 주인공 으로 멋지다 급 액션 도 가능하다 아쉽다</td>\n",
              "    </tr>\n",
              "    <tr>\n",
              "      <th>3</th>\n",
              "      <td>1478</td>\n",
              "      <td>1479</td>\n",
              "      <td>제이크 니가 심형래냐? 혼자 각본, 연출, 감독하게?</td>\n",
              "      <td>0</td>\n",
              "      <td>제이크 니가 심형래냐 혼자 각본 연출 감독하게</td>\n",
              "      <td>제이크 니 가 심형래 냐 혼자 각본 연출 감독 하다</td>\n",
              "    </tr>\n",
              "    <tr>\n",
              "      <th>4</th>\n",
              "      <td>1013</td>\n",
              "      <td>1014</td>\n",
              "      <td>서로가 서로에게 결핍된 장면의 조각들</td>\n",
              "      <td>1</td>\n",
              "      <td>서로가 서로에게 결핍된 장면의 조각들</td>\n",
              "      <td>서로 가 서로 에게 결핍 되다 장면 의 조각 들</td>\n",
              "    </tr>\n",
              "  </tbody>\n",
              "</table>\n",
              "</div>\n",
              "      <button class=\"colab-df-convert\" onclick=\"convertToInteractive('df-248598ee-a7ab-4db2-b785-1e7797fd7818')\"\n",
              "              title=\"Convert this dataframe to an interactive table.\"\n",
              "              style=\"display:none;\">\n",
              "        \n",
              "  <svg xmlns=\"http://www.w3.org/2000/svg\" height=\"24px\"viewBox=\"0 0 24 24\"\n",
              "       width=\"24px\">\n",
              "    <path d=\"M0 0h24v24H0V0z\" fill=\"none\"/>\n",
              "    <path d=\"M18.56 5.44l.94 2.06.94-2.06 2.06-.94-2.06-.94-.94-2.06-.94 2.06-2.06.94zm-11 1L8.5 8.5l.94-2.06 2.06-.94-2.06-.94L8.5 2.5l-.94 2.06-2.06.94zm10 10l.94 2.06.94-2.06 2.06-.94-2.06-.94-.94-2.06-.94 2.06-2.06.94z\"/><path d=\"M17.41 7.96l-1.37-1.37c-.4-.4-.92-.59-1.43-.59-.52 0-1.04.2-1.43.59L10.3 9.45l-7.72 7.72c-.78.78-.78 2.05 0 2.83L4 21.41c.39.39.9.59 1.41.59.51 0 1.02-.2 1.41-.59l7.78-7.78 2.81-2.81c.8-.78.8-2.07 0-2.86zM5.41 20L4 18.59l7.72-7.72 1.47 1.35L5.41 20z\"/>\n",
              "  </svg>\n",
              "      </button>\n",
              "      \n",
              "  <style>\n",
              "    .colab-df-container {\n",
              "      display:flex;\n",
              "      flex-wrap:wrap;\n",
              "      gap: 12px;\n",
              "    }\n",
              "\n",
              "    .colab-df-convert {\n",
              "      background-color: #E8F0FE;\n",
              "      border: none;\n",
              "      border-radius: 50%;\n",
              "      cursor: pointer;\n",
              "      display: none;\n",
              "      fill: #1967D2;\n",
              "      height: 32px;\n",
              "      padding: 0 0 0 0;\n",
              "      width: 32px;\n",
              "    }\n",
              "\n",
              "    .colab-df-convert:hover {\n",
              "      background-color: #E2EBFA;\n",
              "      box-shadow: 0px 1px 2px rgba(60, 64, 67, 0.3), 0px 1px 3px 1px rgba(60, 64, 67, 0.15);\n",
              "      fill: #174EA6;\n",
              "    }\n",
              "\n",
              "    [theme=dark] .colab-df-convert {\n",
              "      background-color: #3B4455;\n",
              "      fill: #D2E3FC;\n",
              "    }\n",
              "\n",
              "    [theme=dark] .colab-df-convert:hover {\n",
              "      background-color: #434B5C;\n",
              "      box-shadow: 0px 1px 3px 1px rgba(0, 0, 0, 0.15);\n",
              "      filter: drop-shadow(0px 1px 2px rgba(0, 0, 0, 0.3));\n",
              "      fill: #FFFFFF;\n",
              "    }\n",
              "  </style>\n",
              "\n",
              "      <script>\n",
              "        const buttonEl =\n",
              "          document.querySelector('#df-248598ee-a7ab-4db2-b785-1e7797fd7818 button.colab-df-convert');\n",
              "        buttonEl.style.display =\n",
              "          google.colab.kernel.accessAllowed ? 'block' : 'none';\n",
              "\n",
              "        async function convertToInteractive(key) {\n",
              "          const element = document.querySelector('#df-248598ee-a7ab-4db2-b785-1e7797fd7818');\n",
              "          const dataTable =\n",
              "            await google.colab.kernel.invokeFunction('convertToInteractive',\n",
              "                                                     [key], {});\n",
              "          if (!dataTable) return;\n",
              "\n",
              "          const docLinkHtml = 'Like what you see? Visit the ' +\n",
              "            '<a target=\"_blank\" href=https://colab.research.google.com/notebooks/data_table.ipynb>data table notebook</a>'\n",
              "            + ' to learn more about interactive tables.';\n",
              "          element.innerHTML = '';\n",
              "          dataTable['output_type'] = 'display_data';\n",
              "          await google.colab.output.renderOutput(dataTable, element);\n",
              "          const docLink = document.createElement('div');\n",
              "          docLink.innerHTML = docLinkHtml;\n",
              "          element.appendChild(docLink);\n",
              "        }\n",
              "      </script>\n",
              "    </div>\n",
              "  </div>\n",
              "  "
            ]
          },
          "metadata": {},
          "execution_count": 16
        }
      ],
      "source": [
        "tokenized = [] # 데이터프레임의 한 컬럼으로 추가할 리스트\n",
        "for sentence in train['preprocessed']: # 전처리된 리뷰들을 하나씩 꺼내옵니다\n",
        "    # To do\n",
        "    tokens = okt.morphs(sentence, stem=True)\n",
        "    tokenize = \" \".join(tokens) # tokens라는 리스트 안의 형태소들을 띄어쓰기로 분리된 하나의 문자열로 join시켜줍니다.\n",
        "    tokenized.append(tokenize) # 형태소 단위로 띄어쓰기된 문자열을 최종 리스트에 추가해줍니다\n",
        "train[\"tokenized_stem\"] = pd.DataFrame(tokenized) # 리스트를 데이터프레임으로 변환해 tokenized_stem라는 컬럼명으로 추가해줍니다.\n",
        "\n",
        "train.head() # 데이터 확인"
      ]
    },
    {
      "cell_type": "markdown",
      "metadata": {
        "id": "d4O8ZttGxzYh"
      },
      "source": [
        "형태소 분석 및 어간 추출을 완료한 \"tokenized\" 컬럼이 추가되었습니다!"
      ]
    },
    {
      "cell_type": "markdown",
      "metadata": {
        "id": "CCFNmsj7xzYh"
      },
      "source": [
        "### 품사 태깅(POS Tagging)\n",
        "\n",
        "자 이제 다음 단계인 품사 태깅에 대해 알아봅시다.\n",
        "\n",
        "품사 태깅이란 주어진 텍스트를 형태소 단위로 나눈 뒤, 각 형태소에 해당 품사를 태깅하여 리스트화 하는 것입니다."
      ]
    },
    {
      "cell_type": "markdown",
      "metadata": {
        "id": "gQaS_U04xzYj"
      },
      "source": [
        "한 예시를 살펴보니 Noun, Josa, Adverb, Adjective, Verb, Suffix, Punctuation, KoreanParticle 등으로 품사가 태깅되어 하나의 리스트 형태로 반환됩니다\n",
        "\n",
        "태그되는 품사의 종류는 더 다양하니 직접 다양한 문장을 이용해 공부해보세요!\n",
        "\n",
        "okt의 pos 함수만을 이용해 토큰화와 품사 태깅을 한번에 할 수 있습니다.\n",
        "\n",
        "품사 태깅은 꼭 필요한 품사(ex. 명사)를 추출할 때 유용하게 쓰일 수 있겠네요.\n",
        "\n",
        "바로 명사를 추출해볼까요?"
      ]
    },
    {
      "cell_type": "code",
      "execution_count": null,
      "metadata": {
        "id": "yEWOrDafxzYj",
        "outputId": "5551af7b-3545-427c-9039-5db003e48394",
        "colab": {
          "base_uri": "https://localhost:8080/"
        }
      },
      "outputs": [
        {
          "output_type": "stream",
          "name": "stdout",
          "text": [
            "['오늘', '코딩', '자연어', '처리', '고수']\n"
          ]
        }
      ],
      "source": [
        "print(okt.nouns(\"오늘도 열심히 재밌는 코딩을 해볼까? 같이 힘내서 자연어 처리 고수들이 됩시다! ㅎㅎ\"))"
      ]
    },
    {
      "cell_type": "markdown",
      "metadata": {
        "id": "fYpUkWnExzYk"
      },
      "source": [
        "okt의 nouns 함수를 사용해 간편하게 명사만을 추출하였습니다!\n",
        "\n",
        "이렇게 간단하게 명사만을 추출할수도 있지만, 영화 리뷰는 명사만으로 긍/부정을 판단하기 어렵기 때문에 \n",
        "\n",
        "우선 임의로 명사, 동사, 형용사, 부사를 추출하여 사용해보겠습니다. (이 부분은 직접 고민하고 수정해보세요!)"
      ]
    },
    {
      "cell_type": "code",
      "execution_count": null,
      "metadata": {
        "id": "Y5NeznawxzYk",
        "outputId": "70d3e5e5-2e3b-446f-9f80-b3292ad8aacf",
        "colab": {
          "base_uri": "https://localhost:8080/",
          "height": 206
        }
      },
      "outputs": [
        {
          "output_type": "execute_result",
          "data": {
            "text/plain": [
              "   index    id                         document  label  \\\n",
              "0   1270  1271             단지 알몸일 뿐, 특별한 느낌 없음.      0   \n",
              "1    732   733             1편의그대단함은 도대체 어딨는거야..      0   \n",
              "2    500   501  램버트를 주인공으로 멋진 B급 액션도 가능했을텐데 아쉽다      0   \n",
              "3   1478  1479    제이크 니가 심형래냐? 혼자 각본, 연출, 감독하게?      0   \n",
              "4   1013  1014             서로가 서로에게 결핍된 장면의 조각들      1   \n",
              "\n",
              "                     preprocessed                    tokenized_stem  \\\n",
              "0              단지 알몸일 뿐 특별한 느낌 없음              단지 알몸 일 뿐 특별하다 느낌 없다   \n",
              "1               편의그대단함은 도대체 어딨는거야                 편의 그 대단하다 도대체 어딨다   \n",
              "2  램버트를 주인공으로 멋진 급 액션도 가능했을텐데 아쉽다  램버트 를 주인공 으로 멋지다 급 액션 도 가능하다 아쉽다   \n",
              "3       제이크 니가 심형래냐 혼자 각본 연출 감독하게      제이크 니 가 심형래 냐 혼자 각본 연출 감독 하다   \n",
              "4            서로가 서로에게 결핍된 장면의 조각들        서로 가 서로 에게 결핍 되다 장면 의 조각 들   \n",
              "\n",
              "                     main_pos  \n",
              "0         단지 알몸 일 뿐 특별한 느낌 없음  \n",
              "1         편의 그 대단함은 도대체 어딨는거야  \n",
              "2  램버트 주인공 멋진 급 액션 가능했을텐데 아쉽다  \n",
              "3    제이크 니 심형래 혼자 각본 연출 감독 하게  \n",
              "4            서로 서로 결핍 된 장면 조각  "
            ],
            "text/html": [
              "\n",
              "  <div id=\"df-718cf34a-d6df-43c4-a7d2-2704eb6e3eda\">\n",
              "    <div class=\"colab-df-container\">\n",
              "      <div>\n",
              "<style scoped>\n",
              "    .dataframe tbody tr th:only-of-type {\n",
              "        vertical-align: middle;\n",
              "    }\n",
              "\n",
              "    .dataframe tbody tr th {\n",
              "        vertical-align: top;\n",
              "    }\n",
              "\n",
              "    .dataframe thead th {\n",
              "        text-align: right;\n",
              "    }\n",
              "</style>\n",
              "<table border=\"1\" class=\"dataframe\">\n",
              "  <thead>\n",
              "    <tr style=\"text-align: right;\">\n",
              "      <th></th>\n",
              "      <th>index</th>\n",
              "      <th>id</th>\n",
              "      <th>document</th>\n",
              "      <th>label</th>\n",
              "      <th>preprocessed</th>\n",
              "      <th>tokenized_stem</th>\n",
              "      <th>main_pos</th>\n",
              "    </tr>\n",
              "  </thead>\n",
              "  <tbody>\n",
              "    <tr>\n",
              "      <th>0</th>\n",
              "      <td>1270</td>\n",
              "      <td>1271</td>\n",
              "      <td>단지 알몸일 뿐, 특별한 느낌 없음.</td>\n",
              "      <td>0</td>\n",
              "      <td>단지 알몸일 뿐 특별한 느낌 없음</td>\n",
              "      <td>단지 알몸 일 뿐 특별하다 느낌 없다</td>\n",
              "      <td>단지 알몸 일 뿐 특별한 느낌 없음</td>\n",
              "    </tr>\n",
              "    <tr>\n",
              "      <th>1</th>\n",
              "      <td>732</td>\n",
              "      <td>733</td>\n",
              "      <td>1편의그대단함은 도대체 어딨는거야..</td>\n",
              "      <td>0</td>\n",
              "      <td>편의그대단함은 도대체 어딨는거야</td>\n",
              "      <td>편의 그 대단하다 도대체 어딨다</td>\n",
              "      <td>편의 그 대단함은 도대체 어딨는거야</td>\n",
              "    </tr>\n",
              "    <tr>\n",
              "      <th>2</th>\n",
              "      <td>500</td>\n",
              "      <td>501</td>\n",
              "      <td>램버트를 주인공으로 멋진 B급 액션도 가능했을텐데 아쉽다</td>\n",
              "      <td>0</td>\n",
              "      <td>램버트를 주인공으로 멋진 급 액션도 가능했을텐데 아쉽다</td>\n",
              "      <td>램버트 를 주인공 으로 멋지다 급 액션 도 가능하다 아쉽다</td>\n",
              "      <td>램버트 주인공 멋진 급 액션 가능했을텐데 아쉽다</td>\n",
              "    </tr>\n",
              "    <tr>\n",
              "      <th>3</th>\n",
              "      <td>1478</td>\n",
              "      <td>1479</td>\n",
              "      <td>제이크 니가 심형래냐? 혼자 각본, 연출, 감독하게?</td>\n",
              "      <td>0</td>\n",
              "      <td>제이크 니가 심형래냐 혼자 각본 연출 감독하게</td>\n",
              "      <td>제이크 니 가 심형래 냐 혼자 각본 연출 감독 하다</td>\n",
              "      <td>제이크 니 심형래 혼자 각본 연출 감독 하게</td>\n",
              "    </tr>\n",
              "    <tr>\n",
              "      <th>4</th>\n",
              "      <td>1013</td>\n",
              "      <td>1014</td>\n",
              "      <td>서로가 서로에게 결핍된 장면의 조각들</td>\n",
              "      <td>1</td>\n",
              "      <td>서로가 서로에게 결핍된 장면의 조각들</td>\n",
              "      <td>서로 가 서로 에게 결핍 되다 장면 의 조각 들</td>\n",
              "      <td>서로 서로 결핍 된 장면 조각</td>\n",
              "    </tr>\n",
              "  </tbody>\n",
              "</table>\n",
              "</div>\n",
              "      <button class=\"colab-df-convert\" onclick=\"convertToInteractive('df-718cf34a-d6df-43c4-a7d2-2704eb6e3eda')\"\n",
              "              title=\"Convert this dataframe to an interactive table.\"\n",
              "              style=\"display:none;\">\n",
              "        \n",
              "  <svg xmlns=\"http://www.w3.org/2000/svg\" height=\"24px\"viewBox=\"0 0 24 24\"\n",
              "       width=\"24px\">\n",
              "    <path d=\"M0 0h24v24H0V0z\" fill=\"none\"/>\n",
              "    <path d=\"M18.56 5.44l.94 2.06.94-2.06 2.06-.94-2.06-.94-.94-2.06-.94 2.06-2.06.94zm-11 1L8.5 8.5l.94-2.06 2.06-.94-2.06-.94L8.5 2.5l-.94 2.06-2.06.94zm10 10l.94 2.06.94-2.06 2.06-.94-2.06-.94-.94-2.06-.94 2.06-2.06.94z\"/><path d=\"M17.41 7.96l-1.37-1.37c-.4-.4-.92-.59-1.43-.59-.52 0-1.04.2-1.43.59L10.3 9.45l-7.72 7.72c-.78.78-.78 2.05 0 2.83L4 21.41c.39.39.9.59 1.41.59.51 0 1.02-.2 1.41-.59l7.78-7.78 2.81-2.81c.8-.78.8-2.07 0-2.86zM5.41 20L4 18.59l7.72-7.72 1.47 1.35L5.41 20z\"/>\n",
              "  </svg>\n",
              "      </button>\n",
              "      \n",
              "  <style>\n",
              "    .colab-df-container {\n",
              "      display:flex;\n",
              "      flex-wrap:wrap;\n",
              "      gap: 12px;\n",
              "    }\n",
              "\n",
              "    .colab-df-convert {\n",
              "      background-color: #E8F0FE;\n",
              "      border: none;\n",
              "      border-radius: 50%;\n",
              "      cursor: pointer;\n",
              "      display: none;\n",
              "      fill: #1967D2;\n",
              "      height: 32px;\n",
              "      padding: 0 0 0 0;\n",
              "      width: 32px;\n",
              "    }\n",
              "\n",
              "    .colab-df-convert:hover {\n",
              "      background-color: #E2EBFA;\n",
              "      box-shadow: 0px 1px 2px rgba(60, 64, 67, 0.3), 0px 1px 3px 1px rgba(60, 64, 67, 0.15);\n",
              "      fill: #174EA6;\n",
              "    }\n",
              "\n",
              "    [theme=dark] .colab-df-convert {\n",
              "      background-color: #3B4455;\n",
              "      fill: #D2E3FC;\n",
              "    }\n",
              "\n",
              "    [theme=dark] .colab-df-convert:hover {\n",
              "      background-color: #434B5C;\n",
              "      box-shadow: 0px 1px 3px 1px rgba(0, 0, 0, 0.15);\n",
              "      filter: drop-shadow(0px 1px 2px rgba(0, 0, 0, 0.3));\n",
              "      fill: #FFFFFF;\n",
              "    }\n",
              "  </style>\n",
              "\n",
              "      <script>\n",
              "        const buttonEl =\n",
              "          document.querySelector('#df-718cf34a-d6df-43c4-a7d2-2704eb6e3eda button.colab-df-convert');\n",
              "        buttonEl.style.display =\n",
              "          google.colab.kernel.accessAllowed ? 'block' : 'none';\n",
              "\n",
              "        async function convertToInteractive(key) {\n",
              "          const element = document.querySelector('#df-718cf34a-d6df-43c4-a7d2-2704eb6e3eda');\n",
              "          const dataTable =\n",
              "            await google.colab.kernel.invokeFunction('convertToInteractive',\n",
              "                                                     [key], {});\n",
              "          if (!dataTable) return;\n",
              "\n",
              "          const docLinkHtml = 'Like what you see? Visit the ' +\n",
              "            '<a target=\"_blank\" href=https://colab.research.google.com/notebooks/data_table.ipynb>data table notebook</a>'\n",
              "            + ' to learn more about interactive tables.';\n",
              "          element.innerHTML = '';\n",
              "          dataTable['output_type'] = 'display_data';\n",
              "          await google.colab.output.renderOutput(dataTable, element);\n",
              "          const docLink = document.createElement('div');\n",
              "          docLink.innerHTML = docLinkHtml;\n",
              "          element.appendChild(docLink);\n",
              "        }\n",
              "      </script>\n",
              "    </div>\n",
              "  </div>\n",
              "  "
            ]
          },
          "metadata": {},
          "execution_count": 18
        }
      ],
      "source": [
        "main_pos = [] # 데이터프레임의 새 컬럼이 될 리스트\n",
        "for sentence in train['document']: # 리뷰들을 하나씩 가져옵니다\n",
        "    # To do\n",
        "    pos = okt.pos(sentence)# 품사 태깅으로 형태소 분석을 진행하고 해당 리스트를 pos라는 변수로 받습니다\n",
        "    main_words = [word_pos[0] for word_pos in pos if word_pos[1] in (\"Noun\", \"Adverb\", \"Adjective\", \"Verb\")] # 가져오고자 하는 품사에 해당하면 해당 형태소를 main_words 리스트에 추가합니다.\n",
        "    main_words_str = \" \".join(main_words) # main_words 리스트 안의 형태소들을 띄어쓰기로 분리된 하나의 문자열로 join시켜줍니다.\n",
        "    main_pos.append(main_words_str) # 선택한 형태소들로 이루어진 문자열을 최종 리스트에 추가해줍니다\n",
        "train[\"main_pos\"] = pd.DataFrame(main_pos) # 리스트를 데이터프레임으로 변환해 main_pos라는 컬럼명으로 추가해줍니다.\n",
        "\n",
        "train.head() # 데이터 확인"
      ]
    },
    {
      "cell_type": "markdown",
      "metadata": {
        "id": "0rC48SZmxzYl"
      },
      "source": [
        "자 이제 총 세 개의 전처리된 컬럼이 생성되었습니다!\n",
        "\n",
        "어떤 전처리 과정이 성능이 가장 잘 나올지는 미지수입니다. 직접 다양한 시도를 통해 최적의 전처리 프로세스를 찾아보세요~\n",
        "\n",
        "이번 베이스라인에서는 마지막에 생성한 main_pos 컬럼을 이용해 모델 학습을 진행하겠습니다."
      ]
    },
    {
      "cell_type": "markdown",
      "metadata": {
        "id": "csQKUqYNxzYl"
      },
      "source": [
        "### 벡터화\n",
        "\n",
        "CountVectorizer를 사용하였습니다. "
      ]
    },
    {
      "cell_type": "code",
      "execution_count": null,
      "metadata": {
        "id": "FgLiiwwrxzYl"
      },
      "outputs": [],
      "source": [
        "X_train = train.main_pos #training 데이터에서 문서 추출\n",
        "y_train = train.label #training 데이터에서 라벨 추출"
      ]
    },
    {
      "cell_type": "code",
      "execution_count": null,
      "metadata": {
        "id": "s8i5bjQpxzYm"
      },
      "outputs": [],
      "source": [
        "from sklearn.feature_extraction.text import CountVectorizer\n",
        "# To do\n",
        "vectorizer = CountVectorizer() #countvectorizer 생성\n",
        "# countvectorizer 학습\n",
        "X_train_vec = vectorizer.fit(X_train)"
      ]
    },
    {
      "cell_type": "markdown",
      "metadata": {
        "id": "rGt6dzjVxzYm"
      },
      "source": [
        "### 모델 학습"
      ]
    },
    {
      "cell_type": "code",
      "execution_count": null,
      "metadata": {
        "id": "zYcjr36dxzYm",
        "outputId": "b0a0eafa-88f0-434d-dac7-e67796b097f5",
        "colab": {
          "base_uri": "https://localhost:8080/",
          "height": 346
        }
      },
      "outputs": [
        {
          "output_type": "error",
          "ename": "TypeError",
          "evalue": "ignored",
          "traceback": [
            "\u001b[0;31m---------------------------------------------------------------------------\u001b[0m",
            "\u001b[0;31mTypeError\u001b[0m                                 Traceback (most recent call last)",
            "\u001b[0;32m<ipython-input-28-c2baa894ff84>\u001b[0m in \u001b[0;36m<module>\u001b[0;34m()\u001b[0m\n\u001b[1;32m      1\u001b[0m \u001b[0;32mfrom\u001b[0m \u001b[0msklearn\u001b[0m\u001b[0;34m.\u001b[0m\u001b[0mlinear_model\u001b[0m \u001b[0;32mimport\u001b[0m \u001b[0mLogisticRegression\u001b[0m \u001b[0;31m#모델 불러오기\u001b[0m\u001b[0;34m\u001b[0m\u001b[0;34m\u001b[0m\u001b[0m\n\u001b[1;32m      2\u001b[0m \u001b[0mmodel\u001b[0m \u001b[0;34m=\u001b[0m \u001b[0mLogisticRegression\u001b[0m\u001b[0;34m(\u001b[0m\u001b[0;34m)\u001b[0m \u001b[0;31m#객체에 모델 할당\u001b[0m\u001b[0;34m\u001b[0m\u001b[0;34m\u001b[0m\u001b[0m\n\u001b[0;32m----> 3\u001b[0;31m \u001b[0mmodel\u001b[0m\u001b[0;34m.\u001b[0m\u001b[0mfit\u001b[0m\u001b[0;34m(\u001b[0m\u001b[0mX_train_vec\u001b[0m\u001b[0;34m,\u001b[0m \u001b[0my_train\u001b[0m\u001b[0;34m)\u001b[0m \u001b[0;31m#모델 학습\u001b[0m\u001b[0;34m\u001b[0m\u001b[0;34m\u001b[0m\u001b[0m\n\u001b[0m",
            "\u001b[0;32m/usr/local/lib/python3.7/dist-packages/sklearn/linear_model/_logistic.py\u001b[0m in \u001b[0;36mfit\u001b[0;34m(self, X, y, sample_weight)\u001b[0m\n\u001b[1;32m   1512\u001b[0m             \u001b[0mdtype\u001b[0m\u001b[0;34m=\u001b[0m\u001b[0m_dtype\u001b[0m\u001b[0;34m,\u001b[0m\u001b[0;34m\u001b[0m\u001b[0;34m\u001b[0m\u001b[0m\n\u001b[1;32m   1513\u001b[0m             \u001b[0morder\u001b[0m\u001b[0;34m=\u001b[0m\u001b[0;34m\"C\"\u001b[0m\u001b[0;34m,\u001b[0m\u001b[0;34m\u001b[0m\u001b[0;34m\u001b[0m\u001b[0m\n\u001b[0;32m-> 1514\u001b[0;31m             \u001b[0maccept_large_sparse\u001b[0m\u001b[0;34m=\u001b[0m\u001b[0msolver\u001b[0m \u001b[0;32mnot\u001b[0m \u001b[0;32min\u001b[0m \u001b[0;34m[\u001b[0m\u001b[0;34m\"liblinear\"\u001b[0m\u001b[0;34m,\u001b[0m \u001b[0;34m\"sag\"\u001b[0m\u001b[0;34m,\u001b[0m \u001b[0;34m\"saga\"\u001b[0m\u001b[0;34m]\u001b[0m\u001b[0;34m,\u001b[0m\u001b[0;34m\u001b[0m\u001b[0;34m\u001b[0m\u001b[0m\n\u001b[0m\u001b[1;32m   1515\u001b[0m         )\n\u001b[1;32m   1516\u001b[0m         \u001b[0mcheck_classification_targets\u001b[0m\u001b[0;34m(\u001b[0m\u001b[0my\u001b[0m\u001b[0;34m)\u001b[0m\u001b[0;34m\u001b[0m\u001b[0;34m\u001b[0m\u001b[0m\n",
            "\u001b[0;32m/usr/local/lib/python3.7/dist-packages/sklearn/base.py\u001b[0m in \u001b[0;36m_validate_data\u001b[0;34m(self, X, y, reset, validate_separately, **check_params)\u001b[0m\n\u001b[1;32m    579\u001b[0m                 \u001b[0my\u001b[0m \u001b[0;34m=\u001b[0m \u001b[0mcheck_array\u001b[0m\u001b[0;34m(\u001b[0m\u001b[0my\u001b[0m\u001b[0;34m,\u001b[0m \u001b[0;34m**\u001b[0m\u001b[0mcheck_y_params\u001b[0m\u001b[0;34m)\u001b[0m\u001b[0;34m\u001b[0m\u001b[0;34m\u001b[0m\u001b[0m\n\u001b[1;32m    580\u001b[0m             \u001b[0;32melse\u001b[0m\u001b[0;34m:\u001b[0m\u001b[0;34m\u001b[0m\u001b[0;34m\u001b[0m\u001b[0m\n\u001b[0;32m--> 581\u001b[0;31m                 \u001b[0mX\u001b[0m\u001b[0;34m,\u001b[0m \u001b[0my\u001b[0m \u001b[0;34m=\u001b[0m \u001b[0mcheck_X_y\u001b[0m\u001b[0;34m(\u001b[0m\u001b[0mX\u001b[0m\u001b[0;34m,\u001b[0m \u001b[0my\u001b[0m\u001b[0;34m,\u001b[0m \u001b[0;34m**\u001b[0m\u001b[0mcheck_params\u001b[0m\u001b[0;34m)\u001b[0m\u001b[0;34m\u001b[0m\u001b[0;34m\u001b[0m\u001b[0m\n\u001b[0m\u001b[1;32m    582\u001b[0m             \u001b[0mout\u001b[0m \u001b[0;34m=\u001b[0m \u001b[0mX\u001b[0m\u001b[0;34m,\u001b[0m \u001b[0my\u001b[0m\u001b[0;34m\u001b[0m\u001b[0;34m\u001b[0m\u001b[0m\n\u001b[1;32m    583\u001b[0m \u001b[0;34m\u001b[0m\u001b[0m\n",
            "\u001b[0;32m/usr/local/lib/python3.7/dist-packages/sklearn/utils/validation.py\u001b[0m in \u001b[0;36mcheck_X_y\u001b[0;34m(X, y, accept_sparse, accept_large_sparse, dtype, order, copy, force_all_finite, ensure_2d, allow_nd, multi_output, ensure_min_samples, ensure_min_features, y_numeric, estimator)\u001b[0m\n\u001b[1;32m    974\u001b[0m         \u001b[0mensure_min_samples\u001b[0m\u001b[0;34m=\u001b[0m\u001b[0mensure_min_samples\u001b[0m\u001b[0;34m,\u001b[0m\u001b[0;34m\u001b[0m\u001b[0;34m\u001b[0m\u001b[0m\n\u001b[1;32m    975\u001b[0m         \u001b[0mensure_min_features\u001b[0m\u001b[0;34m=\u001b[0m\u001b[0mensure_min_features\u001b[0m\u001b[0;34m,\u001b[0m\u001b[0;34m\u001b[0m\u001b[0;34m\u001b[0m\u001b[0m\n\u001b[0;32m--> 976\u001b[0;31m         \u001b[0mestimator\u001b[0m\u001b[0;34m=\u001b[0m\u001b[0mestimator\u001b[0m\u001b[0;34m,\u001b[0m\u001b[0;34m\u001b[0m\u001b[0;34m\u001b[0m\u001b[0m\n\u001b[0m\u001b[1;32m    977\u001b[0m     )\n\u001b[1;32m    978\u001b[0m \u001b[0;34m\u001b[0m\u001b[0m\n",
            "\u001b[0;32m/usr/local/lib/python3.7/dist-packages/sklearn/utils/validation.py\u001b[0m in \u001b[0;36mcheck_array\u001b[0;34m(array, accept_sparse, accept_large_sparse, dtype, order, copy, force_all_finite, ensure_2d, allow_nd, ensure_min_samples, ensure_min_features, estimator)\u001b[0m\n\u001b[1;32m    744\u001b[0m                     \u001b[0marray\u001b[0m \u001b[0;34m=\u001b[0m \u001b[0marray\u001b[0m\u001b[0;34m.\u001b[0m\u001b[0mastype\u001b[0m\u001b[0;34m(\u001b[0m\u001b[0mdtype\u001b[0m\u001b[0;34m,\u001b[0m \u001b[0mcasting\u001b[0m\u001b[0;34m=\u001b[0m\u001b[0;34m\"unsafe\"\u001b[0m\u001b[0;34m,\u001b[0m \u001b[0mcopy\u001b[0m\u001b[0;34m=\u001b[0m\u001b[0;32mFalse\u001b[0m\u001b[0;34m)\u001b[0m\u001b[0;34m\u001b[0m\u001b[0;34m\u001b[0m\u001b[0m\n\u001b[1;32m    745\u001b[0m                 \u001b[0;32melse\u001b[0m\u001b[0;34m:\u001b[0m\u001b[0;34m\u001b[0m\u001b[0;34m\u001b[0m\u001b[0m\n\u001b[0;32m--> 746\u001b[0;31m                     \u001b[0marray\u001b[0m \u001b[0;34m=\u001b[0m \u001b[0mnp\u001b[0m\u001b[0;34m.\u001b[0m\u001b[0masarray\u001b[0m\u001b[0;34m(\u001b[0m\u001b[0marray\u001b[0m\u001b[0;34m,\u001b[0m \u001b[0morder\u001b[0m\u001b[0;34m=\u001b[0m\u001b[0morder\u001b[0m\u001b[0;34m,\u001b[0m \u001b[0mdtype\u001b[0m\u001b[0;34m=\u001b[0m\u001b[0mdtype\u001b[0m\u001b[0;34m)\u001b[0m\u001b[0;34m\u001b[0m\u001b[0;34m\u001b[0m\u001b[0m\n\u001b[0m\u001b[1;32m    747\u001b[0m             \u001b[0;32mexcept\u001b[0m \u001b[0mComplexWarning\u001b[0m \u001b[0;32mas\u001b[0m \u001b[0mcomplex_warning\u001b[0m\u001b[0;34m:\u001b[0m\u001b[0;34m\u001b[0m\u001b[0;34m\u001b[0m\u001b[0m\n\u001b[1;32m    748\u001b[0m                 raise ValueError(\n",
            "\u001b[0;31mTypeError\u001b[0m: float() argument must be a string or a number, not 'CountVectorizer'"
          ]
        }
      ],
      "source": [
        "from sklearn.linear_model import LogisticRegression #모델 불러오기\n",
        "model = LogisticRegression() #객체에 모델 할당\n",
        "model.fit(X_train_vec, y_train) #모델 학습"
      ]
    },
    {
      "cell_type": "markdown",
      "metadata": {
        "id": "F_jE_ICnxzYn"
      },
      "source": [
        "### 검증셋으로 모델 성능 검증"
      ]
    },
    {
      "cell_type": "markdown",
      "metadata": {
        "id": "Ch_s74HHxzYn"
      },
      "source": [
        "먼저 검증 셋 val에 train 셋과 동일한 전처리 과정을 거쳐줍니다."
      ]
    },
    {
      "cell_type": "code",
      "execution_count": null,
      "metadata": {
        "id": "rlS82zKBxzYn",
        "outputId": "ec558530-6174-46fc-f4e9-3573d3e2636e"
      },
      "outputs": [
        {
          "data": {
            "text/html": [
              "<div>\n",
              "<style scoped>\n",
              "    .dataframe tbody tr th:only-of-type {\n",
              "        vertical-align: middle;\n",
              "    }\n",
              "\n",
              "    .dataframe tbody tr th {\n",
              "        vertical-align: top;\n",
              "    }\n",
              "\n",
              "    .dataframe thead th {\n",
              "        text-align: right;\n",
              "    }\n",
              "</style>\n",
              "<table border=\"1\" class=\"dataframe\">\n",
              "  <thead>\n",
              "    <tr style=\"text-align: right;\">\n",
              "      <th></th>\n",
              "      <th>index</th>\n",
              "      <th>id</th>\n",
              "      <th>document</th>\n",
              "      <th>label</th>\n",
              "      <th>preprocessed</th>\n",
              "      <th>tokenized_stem</th>\n",
              "      <th>main_pos</th>\n",
              "    </tr>\n",
              "  </thead>\n",
              "  <tbody>\n",
              "    <tr>\n",
              "      <th>0</th>\n",
              "      <td>4711</td>\n",
              "      <td>4712</td>\n",
              "      <td>개 ..... 재 미 없 고 ..... 모 든 게 어 색 해 여 .</td>\n",
              "      <td>0</td>\n",
              "      <td>개 재 미 없 고 모 든 게 어 색 해 여</td>\n",
              "      <td>개 재 밉다 없다 고 모 들다 게 어 색 해 여</td>\n",
              "      <td>개 재 미 없 고 모 든 게 색 해 여</td>\n",
              "    </tr>\n",
              "    <tr>\n",
              "      <th>1</th>\n",
              "      <td>3625</td>\n",
              "      <td>3626</td>\n",
              "      <td>지금 봐도 촌스럽지 않네. 명작이다.</td>\n",
              "      <td>1</td>\n",
              "      <td>지금 봐도 촌스럽지 않네 명작이다</td>\n",
              "      <td>지금 보다 촌 스럽지 않다 명작 이다</td>\n",
              "      <td>지금 봐도 촌 않네 명작</td>\n",
              "    </tr>\n",
              "    <tr>\n",
              "      <th>2</th>\n",
              "      <td>2483</td>\n",
              "      <td>2484</td>\n",
              "      <td>올해 감상한 영화 중 몇안되는 수작이네요</td>\n",
              "      <td>1</td>\n",
              "      <td>올해 감상한 영화 중 몇안되는 수작이네요</td>\n",
              "      <td>올해 감상 한 영화 중 몇 안되다 수작 이네 요</td>\n",
              "      <td>올해 감상 영화 중 몇 안되는 수작 요</td>\n",
              "    </tr>\n",
              "    <tr>\n",
              "      <th>3</th>\n",
              "      <td>2620</td>\n",
              "      <td>2621</td>\n",
              "      <td>이런 영화를 만들면서까지 돈을 벌어야 하는 사람들이 불쌍하다.</td>\n",
              "      <td>0</td>\n",
              "      <td>이런 영화를 만들면서까지 돈을 벌어야 하는 사람들이 불쌍하다</td>\n",
              "      <td>이렇다 영화 를 만들다 돈 을 벌다 하다 사람 들 이 불쌍하다</td>\n",
              "      <td>이런 영화 만들면서까지 돈 벌어야 하는 사람 불쌍하다</td>\n",
              "    </tr>\n",
              "    <tr>\n",
              "      <th>4</th>\n",
              "      <td>1574</td>\n",
              "      <td>1575</td>\n",
              "      <td>가슴만볼만함 스토리는없슴 눈요기 심심풀이임</td>\n",
              "      <td>0</td>\n",
              "      <td>가슴만볼만함 스토리는없슴 눈요기 심심풀이임</td>\n",
              "      <td>가슴 만 볼 만 함 스토리 는 없다 슴 눈요기 심심 풀이 임</td>\n",
              "      <td>가슴 볼 함 스토리 없 슴 눈요기 심심 풀이 임</td>\n",
              "    </tr>\n",
              "  </tbody>\n",
              "</table>\n",
              "</div>"
            ],
            "text/plain": [
              "   index    id                               document  label  \\\n",
              "0   4711  4712  개 ..... 재 미 없 고 ..... 모 든 게 어 색 해 여 .      0   \n",
              "1   3625  3626                   지금 봐도 촌스럽지 않네. 명작이다.      1   \n",
              "2   2483  2484                 올해 감상한 영화 중 몇안되는 수작이네요      1   \n",
              "3   2620  2621     이런 영화를 만들면서까지 돈을 벌어야 하는 사람들이 불쌍하다.      0   \n",
              "4   1574  1575                가슴만볼만함 스토리는없슴 눈요기 심심풀이임      0   \n",
              "\n",
              "                        preprocessed                      tokenized_stem  \\\n",
              "0           개 재 미 없 고 모 든 게 어 색 해 여           개 재 밉다 없다 고 모 들다 게 어 색 해 여   \n",
              "1                 지금 봐도 촌스럽지 않네 명작이다                지금 보다 촌 스럽지 않다 명작 이다   \n",
              "2             올해 감상한 영화 중 몇안되는 수작이네요          올해 감상 한 영화 중 몇 안되다 수작 이네 요   \n",
              "3  이런 영화를 만들면서까지 돈을 벌어야 하는 사람들이 불쌍하다  이렇다 영화 를 만들다 돈 을 벌다 하다 사람 들 이 불쌍하다   \n",
              "4            가슴만볼만함 스토리는없슴 눈요기 심심풀이임   가슴 만 볼 만 함 스토리 는 없다 슴 눈요기 심심 풀이 임   \n",
              "\n",
              "                        main_pos  \n",
              "0          개 재 미 없 고 모 든 게 색 해 여  \n",
              "1                  지금 봐도 촌 않네 명작  \n",
              "2          올해 감상 영화 중 몇 안되는 수작 요  \n",
              "3  이런 영화 만들면서까지 돈 벌어야 하는 사람 불쌍하다  \n",
              "4     가슴 볼 함 스토리 없 슴 눈요기 심심 풀이 임  "
            ]
          },
          "execution_count": 22,
          "metadata": {},
          "output_type": "execute_result"
        }
      ],
      "source": [
        "# preprocessed\n",
        "val['preprocessed'] = val['document'].str.replace(\"[^ㄱ-ㅎㅏ-ㅣ가-힣 ]\",\"\") # 한글과 공백을 제외하고 모두 제거\n",
        "val['preprocessed'] = val['preprocessed'].str.replace(\" +\", \" \") # 다중 공백 제거\n",
        "\n",
        "# tokenized_stem\n",
        "tokenized = []\n",
        "for sentence in val['preprocessed']:\n",
        "    # To do\n",
        "    tokens =  #형태소 분석 어간 추출 옵션\n",
        "    tokenize = \" \".join(tokens)\n",
        "    tokenized.append(tokenize)\n",
        "val[\"tokenized_stem\"] = pd.DataFrame(tokenized)\n",
        "\n",
        "# main_pos\n",
        "main_pos = []\n",
        "for sentence in val['document']:\n",
        "    # To do\n",
        "    pos = # 품사 태깅 형태소 분석\n",
        "    main_words = # 원하는 품사 선택\n",
        "    main_words_str = \" \".join(main_words)\n",
        "    main_pos.append(main_words_str)\n",
        "val[\"main_pos\"] = pd.DataFrame(main_pos)\n",
        "\n",
        "val.head()"
      ]
    },
    {
      "cell_type": "markdown",
      "metadata": {
        "id": "3OkudJa5xzYo"
      },
      "source": [
        "학습한 모델로 예측할 X를 벡터화해줍니다."
      ]
    },
    {
      "cell_type": "code",
      "execution_count": null,
      "metadata": {
        "id": "Lqwz6CoCxzYo"
      },
      "outputs": [],
      "source": [
        "X_val = val.main_pos #validation 데이터에서 전처리된 문서 추출\n",
        "y_val = val.label #validation 데이터에서 라벨 추출\n",
        "# To do\n",
        "X_val_vec = # train셋으로 fit한 벡터라이저 이용해 transform"
      ]
    },
    {
      "cell_type": "code",
      "execution_count": null,
      "metadata": {
        "id": "A08sNchqxzYo",
        "outputId": "6347bae6-2e97-4036-ee84-b470b33b5cca"
      },
      "outputs": [
        {
          "name": "stdout",
          "output_type": "stream",
          "text": [
            "[0 1 1 ... 1 1 0]\n"
          ]
        }
      ],
      "source": [
        "#run model\n",
        "y_pred = model.predict(X_val_vec)\n",
        "print(y_pred)\n",
        "#0:negative 1:positive"
      ]
    },
    {
      "cell_type": "code",
      "execution_count": null,
      "metadata": {
        "id": "tP-UOGHaxzYp",
        "outputId": "4ba00cae-353a-4f88-c8b1-8d3f3befaf2d"
      },
      "outputs": [
        {
          "name": "stdout",
          "output_type": "stream",
          "text": [
            "accuracy = 0.8184\n"
          ]
        }
      ],
      "source": [
        "from sklearn import metrics\n",
        "print('accuracy =', metrics.accuracy_score(y_val, y_pred)) # 정확도 확인"
      ]
    },
    {
      "cell_type": "markdown",
      "metadata": {
        "id": "bDieixi3xzYp"
      },
      "source": [
        "train 셋으로 학습한 모델을 사용해 validation 셋을 예측해본 결과 0.8184의 정확도를 얻었습니다!\n",
        "\n",
        "다양한 전처리 기법과 모델들을 사용하여 성능을 높여보세요~"
      ]
    },
    {
      "cell_type": "markdown",
      "metadata": {
        "id": "RfFDg9ItxzYp"
      },
      "source": [
        "# test.csv 분류하기"
      ]
    },
    {
      "cell_type": "markdown",
      "metadata": {
        "id": "5hnPNLl1xzYp"
      },
      "source": [
        "이제 본격적으로 대회에서 주어진 정답이 없는 test 데이터의 라벨을 예측해보겠습니다.\n",
        "\n",
        "전처리 모델 학습 단계에서 test 데이터를 사용하면 data leakage로 간주되니\n",
        "\n",
        "test.csv는 반드시 모델 학습이 끝난 뒤 예측시에만 등장해야 함에 주의해주세요!\n",
        "\n",
        "train.csv를 이용한 전처리/학습을 test.cvs에 적용하는 것은 허용되지만, test.csv를 전처리/모델링에 직접적으로 이용하면 실격입니다."
      ]
    },
    {
      "cell_type": "code",
      "execution_count": null,
      "metadata": {
        "id": "DzUx56YPxzYq",
        "outputId": "30d35e36-9622-4906-cce7-fa8f3965792f"
      },
      "outputs": [
        {
          "data": {
            "text/html": [
              "<div>\n",
              "<style scoped>\n",
              "    .dataframe tbody tr th:only-of-type {\n",
              "        vertical-align: middle;\n",
              "    }\n",
              "\n",
              "    .dataframe tbody tr th {\n",
              "        vertical-align: top;\n",
              "    }\n",
              "\n",
              "    .dataframe thead th {\n",
              "        text-align: right;\n",
              "    }\n",
              "</style>\n",
              "<table border=\"1\" class=\"dataframe\">\n",
              "  <thead>\n",
              "    <tr style=\"text-align: right;\">\n",
              "      <th></th>\n",
              "      <th>id</th>\n",
              "      <th>document</th>\n",
              "    </tr>\n",
              "  </thead>\n",
              "  <tbody>\n",
              "    <tr>\n",
              "      <th>0</th>\n",
              "      <td>1</td>\n",
              "      <td>시간 때우기 좋은 영화 지루함</td>\n",
              "    </tr>\n",
              "    <tr>\n",
              "      <th>1</th>\n",
              "      <td>2</td>\n",
              "      <td>훈훈한 정이 느껴지는 영화! 가족끼리 드라마 보듯이 보면 딱~!</td>\n",
              "    </tr>\n",
              "    <tr>\n",
              "      <th>2</th>\n",
              "      <td>3</td>\n",
              "      <td>Childhood fantasy</td>\n",
              "    </tr>\n",
              "    <tr>\n",
              "      <th>3</th>\n",
              "      <td>4</td>\n",
              "      <td>멋있는 영화입니다. 잊을 수 없는!</td>\n",
              "    </tr>\n",
              "    <tr>\n",
              "      <th>4</th>\n",
              "      <td>5</td>\n",
              "      <td>너무 감동적이네요 펑펑 울었습니다</td>\n",
              "    </tr>\n",
              "    <tr>\n",
              "      <th>...</th>\n",
              "      <td>...</td>\n",
              "      <td>...</td>\n",
              "    </tr>\n",
              "    <tr>\n",
              "      <th>4995</th>\n",
              "      <td>4996</td>\n",
              "      <td>연계도 제대로 안되고 뭔가 부족한느낌이들고 찝찝한영화</td>\n",
              "    </tr>\n",
              "    <tr>\n",
              "      <th>4996</th>\n",
              "      <td>4997</td>\n",
              "      <td>내생에 최악의 영화중 하나 졸려서 미칠뻔....</td>\n",
              "    </tr>\n",
              "    <tr>\n",
              "      <th>4997</th>\n",
              "      <td>4998</td>\n",
              "      <td>지금까지 나온 드라마 중 최고였습니다. 100점 만점!</td>\n",
              "    </tr>\n",
              "    <tr>\n",
              "      <th>4998</th>\n",
              "      <td>4999</td>\n",
              "      <td>영화값으로 엄청난 공연을 보았다 - 이게 웬 횡재 ..</td>\n",
              "    </tr>\n",
              "    <tr>\n",
              "      <th>4999</th>\n",
              "      <td>5000</td>\n",
              "      <td>올해엔 롯데 자이언츠가 꼭 우승했으면...</td>\n",
              "    </tr>\n",
              "  </tbody>\n",
              "</table>\n",
              "<p>5000 rows × 2 columns</p>\n",
              "</div>"
            ],
            "text/plain": [
              "        id                             document\n",
              "0        1                     시간 때우기 좋은 영화 지루함\n",
              "1        2  훈훈한 정이 느껴지는 영화! 가족끼리 드라마 보듯이 보면 딱~!\n",
              "2        3                    Childhood fantasy\n",
              "3        4                  멋있는 영화입니다. 잊을 수 없는!\n",
              "4        5                   너무 감동적이네요 펑펑 울었습니다\n",
              "...    ...                                  ...\n",
              "4995  4996        연계도 제대로 안되고 뭔가 부족한느낌이들고 찝찝한영화\n",
              "4996  4997           내생에 최악의 영화중 하나 졸려서 미칠뻔....\n",
              "4997  4998       지금까지 나온 드라마 중 최고였습니다. 100점 만점!\n",
              "4998  4999       영화값으로 엄청난 공연을 보았다 - 이게 웬 횡재 ..\n",
              "4999  5000              올해엔 롯데 자이언츠가 꼭 우승했으면...\n",
              "\n",
              "[5000 rows x 2 columns]"
            ]
          },
          "execution_count": 27,
          "metadata": {},
          "output_type": "execute_result"
        }
      ],
      "source": [
        "test = pd.read_csv('dataset/test.csv')\n",
        "test"
      ]
    },
    {
      "cell_type": "markdown",
      "metadata": {
        "id": "98ZogJRVxzYq"
      },
      "source": [
        "동일한 전처리 과정을 거치되, data leakage가 발생하지 않도록 주의합니다."
      ]
    },
    {
      "cell_type": "code",
      "execution_count": null,
      "metadata": {
        "id": "K1iIpmGPxzYq",
        "outputId": "4f281b85-1410-4548-f85b-fa4bf1cee1d9"
      },
      "outputs": [
        {
          "data": {
            "text/plain": [
              "id          0\n",
              "document    0\n",
              "dtype: int64"
            ]
          },
          "execution_count": 28,
          "metadata": {},
          "output_type": "execute_result"
        }
      ],
      "source": [
        "test.isna().sum()"
      ]
    },
    {
      "cell_type": "code",
      "execution_count": null,
      "metadata": {
        "id": "6dYZK_XMxzYr",
        "outputId": "2de603cd-e997-42c6-fa8e-7f806dae52b4"
      },
      "outputs": [
        {
          "data": {
            "text/html": [
              "<div>\n",
              "<style scoped>\n",
              "    .dataframe tbody tr th:only-of-type {\n",
              "        vertical-align: middle;\n",
              "    }\n",
              "\n",
              "    .dataframe tbody tr th {\n",
              "        vertical-align: top;\n",
              "    }\n",
              "\n",
              "    .dataframe thead th {\n",
              "        text-align: right;\n",
              "    }\n",
              "</style>\n",
              "<table border=\"1\" class=\"dataframe\">\n",
              "  <thead>\n",
              "    <tr style=\"text-align: right;\">\n",
              "      <th></th>\n",
              "      <th>id</th>\n",
              "      <th>document</th>\n",
              "      <th>preprocessed</th>\n",
              "      <th>tokenized_stem</th>\n",
              "      <th>main_pos</th>\n",
              "    </tr>\n",
              "  </thead>\n",
              "  <tbody>\n",
              "    <tr>\n",
              "      <th>0</th>\n",
              "      <td>1</td>\n",
              "      <td>시간 때우기 좋은 영화 지루함</td>\n",
              "      <td>시간 때우기 좋은 영화 지루함</td>\n",
              "      <td>시간 때우다 좋다 영화 지루함</td>\n",
              "      <td>시간 때우기 좋은 영화 지루함</td>\n",
              "    </tr>\n",
              "    <tr>\n",
              "      <th>1</th>\n",
              "      <td>2</td>\n",
              "      <td>훈훈한 정이 느껴지는 영화! 가족끼리 드라마 보듯이 보면 딱~!</td>\n",
              "      <td>훈훈한 정이 느껴지는 영화 가족끼리 드라마 보듯이 보면 딱</td>\n",
              "      <td>훈훈하다 정이 느껴지다 영화 가족 끼리 드라마 보다 보다 딱</td>\n",
              "      <td>훈훈한 정이 느껴지는 영화 가족 끼리 드라마 보듯이 보면 딱</td>\n",
              "    </tr>\n",
              "    <tr>\n",
              "      <th>2</th>\n",
              "      <td>3</td>\n",
              "      <td>Childhood fantasy</td>\n",
              "      <td></td>\n",
              "      <td></td>\n",
              "      <td></td>\n",
              "    </tr>\n",
              "    <tr>\n",
              "      <th>3</th>\n",
              "      <td>4</td>\n",
              "      <td>멋있는 영화입니다. 잊을 수 없는!</td>\n",
              "      <td>멋있는 영화입니다 잊을 수 없는</td>\n",
              "      <td>멋있다 영화 이다 잊다 수 없다</td>\n",
              "      <td>멋있는 영화 입니다 잊을 수 없는</td>\n",
              "    </tr>\n",
              "    <tr>\n",
              "      <th>4</th>\n",
              "      <td>5</td>\n",
              "      <td>너무 감동적이네요 펑펑 울었습니다</td>\n",
              "      <td>너무 감동적이네요 펑펑 울었습니다</td>\n",
              "      <td>너무 감동 적다 펑펑 울다</td>\n",
              "      <td>너무 감동 적이네요 펑펑 울었습니다</td>\n",
              "    </tr>\n",
              "  </tbody>\n",
              "</table>\n",
              "</div>"
            ],
            "text/plain": [
              "   id                             document                      preprocessed  \\\n",
              "0   1                     시간 때우기 좋은 영화 지루함                  시간 때우기 좋은 영화 지루함   \n",
              "1   2  훈훈한 정이 느껴지는 영화! 가족끼리 드라마 보듯이 보면 딱~!  훈훈한 정이 느껴지는 영화 가족끼리 드라마 보듯이 보면 딱   \n",
              "2   3                    Childhood fantasy                                     \n",
              "3   4                  멋있는 영화입니다. 잊을 수 없는!                 멋있는 영화입니다 잊을 수 없는   \n",
              "4   5                   너무 감동적이네요 펑펑 울었습니다                너무 감동적이네요 펑펑 울었습니다   \n",
              "\n",
              "                      tokenized_stem                           main_pos  \n",
              "0                   시간 때우다 좋다 영화 지루함                   시간 때우기 좋은 영화 지루함  \n",
              "1  훈훈하다 정이 느껴지다 영화 가족 끼리 드라마 보다 보다 딱  훈훈한 정이 느껴지는 영화 가족 끼리 드라마 보듯이 보면 딱  \n",
              "2                                                                        \n",
              "3                  멋있다 영화 이다 잊다 수 없다                 멋있는 영화 입니다 잊을 수 없는  \n",
              "4                     너무 감동 적다 펑펑 울다                너무 감동 적이네요 펑펑 울었습니다  "
            ]
          },
          "execution_count": 29,
          "metadata": {},
          "output_type": "execute_result"
        }
      ],
      "source": [
        "# preprocessed\n",
        "test['preprocessed'] = test['document'].str.replace(\"[^ㄱ-ㅎㅏ-ㅣ가-힣 ]\",\"\") # 한글과 공백을 제외하고 모두 제거\n",
        "test['preprocessed'] = test['preprocessed'].str.replace(\" +\", \" \") # 다중 공백 제거\n",
        "\n",
        "# tokenized_stem\n",
        "tokenized = []\n",
        "for sentence in test['preprocessed']:\n",
        "    # To do\n",
        "    tokens = #형태소 분석, 어간 추출\n",
        "    tokenize = \" \".join(tokens)\n",
        "    tokenized.append(tokenize)\n",
        "test[\"tokenized_stem\"] = pd.DataFrame(tokenized)\n",
        "\n",
        "# main_pos\n",
        "main_pos = []\n",
        "for sentence in test['document']:\n",
        "  # To do\n",
        "    pos = #품사 태그\n",
        "    main_words = # 원하는 품사 추출\n",
        "    main_words_str = \" \".join(main_words)\n",
        "    main_pos.append(main_words_str)\n",
        "test[\"main_pos\"] = pd.DataFrame(main_pos)\n",
        "\n",
        "test.head()"
      ]
    },
    {
      "cell_type": "code",
      "execution_count": null,
      "metadata": {
        "id": "7OmdlKhhxzYr",
        "outputId": "b499c762-c844-4088-8bef-2b4e4e1fa3e1"
      },
      "outputs": [
        {
          "name": "stdout",
          "output_type": "stream",
          "text": [
            "[0 1 0 ... 1 0 0]\n"
          ]
        }
      ],
      "source": [
        "X_test = test.main_pos\n",
        "# To do\n",
        "X_test_vec = # train셋으로 fit한 벡터라이저 이용해 transform\n",
        "pred_test = model.predict(X_test_vec)\n",
        "print(pred_test)"
      ]
    },
    {
      "cell_type": "markdown",
      "source": [
        "# 워드클라우드"
      ],
      "metadata": {
        "id": "-zhqvogvj4b3"
      }
    },
    {
      "cell_type": "code",
      "source": [
        "test['pred']=pred_test"
      ],
      "metadata": {
        "id": "K8hlO6rWfEOJ"
      },
      "execution_count": null,
      "outputs": []
    },
    {
      "cell_type": "code",
      "source": [
        "test"
      ],
      "metadata": {
        "colab": {
          "base_uri": "https://localhost:8080/",
          "height": 693
        },
        "id": "SXQ-JDkNfKWF",
        "outputId": "f86f9321-57eb-45db-ca95-762992c114b9"
      },
      "execution_count": null,
      "outputs": [
        {
          "output_type": "execute_result",
          "data": {
            "text/plain": [
              "        id                             document  \\\n",
              "0        1                     시간 때우기 좋은 영화 지루함   \n",
              "1        2  훈훈한 정이 느껴지는 영화! 가족끼리 드라마 보듯이 보면 딱~!   \n",
              "2        3                    Childhood fantasy   \n",
              "3        4                  멋있는 영화입니다. 잊을 수 없는!   \n",
              "4        5                   너무 감동적이네요 펑펑 울었습니다   \n",
              "...    ...                                  ...   \n",
              "4995  4996        연계도 제대로 안되고 뭔가 부족한느낌이들고 찝찝한영화   \n",
              "4996  4997           내생에 최악의 영화중 하나 졸려서 미칠뻔....   \n",
              "4997  4998       지금까지 나온 드라마 중 최고였습니다. 100점 만점!   \n",
              "4998  4999       영화값으로 엄청난 공연을 보았다 - 이게 웬 횡재 ..   \n",
              "4999  5000              올해엔 롯데 자이언츠가 꼭 우승했으면...   \n",
              "\n",
              "                          preprocessed                         tokenized_stem  \\\n",
              "0                     시간 때우기 좋은 영화 지루함                       시간 때우다 좋다 영화 지루함   \n",
              "1     훈훈한 정이 느껴지는 영화 가족끼리 드라마 보듯이 보면 딱      훈훈하다 정이 느껴지다 영화 가족 끼리 드라마 보다 보다 딱   \n",
              "2                                                                               \n",
              "3                    멋있는 영화입니다 잊을 수 없는                      멋있다 영화 이다 잊다 수 없다   \n",
              "4                   너무 감동적이네요 펑펑 울었습니다                         너무 감동 적다 펑펑 울다   \n",
              "...                                ...                                    ...   \n",
              "4995     연계도 제대로 안되고 뭔가 부족한느낌이들고 찝찝한영화  연 계 도 제대로 안되다 뭔가 부족하다 느낌 이 들다 찝찝하다 영화   \n",
              "4996            내생에 최악의 영화중 하나 졸려서 미칠뻔            내생 에 최악 의 영화 중 하나 졸리다 미치다 뻔   \n",
              "4997         지금까지 나온 드라마 중 최고였습니다 점 만점             지금 까지 나오다 드라마 중 최고 이다 점 만점   \n",
              "4998        영화값으로 엄청난 공연을 보았다 이게 웬 횡재           영화 값 으로 엄청나다 공연 을 보다 이 게 웬 횡재   \n",
              "4999              올해엔 롯데 자이언츠가 꼭 우승했으면                  올해 엔 롯데 자이언츠 가 꼭 우승하다   \n",
              "\n",
              "                               main_pos  pred  \n",
              "0                      시간 때우기 좋은 영화 지루함     0  \n",
              "1     훈훈한 정이 느껴지는 영화 가족 끼리 드라마 보듯이 보면 딱     1  \n",
              "2                                           0  \n",
              "3                    멋있는 영화 입니다 잊을 수 없는     1  \n",
              "4                   너무 감동 적이네요 펑펑 울었습니다     1  \n",
              "...                                 ...   ...  \n",
              "4995      계 제대로 안되고 뭔가 부족한 느낌 들고 찝찝한 영화     0  \n",
              "4996               내생 최악 영화 하나 졸려서 미칠 뻔     0  \n",
              "4997           지금 나온 드라마 중 최고 였습니다 점 만점     1  \n",
              "4998             영화 값 엄청난 공연 보았다 이 웬 횡재     0  \n",
              "4999                 올해 롯데 자이언츠 꼭 우승했으면     1  \n",
              "\n",
              "[5000 rows x 6 columns]"
            ],
            "text/html": [
              "\n",
              "  <div id=\"df-f6455ef2-fc38-47df-8b04-b08f731d0722\">\n",
              "    <div class=\"colab-df-container\">\n",
              "      <div>\n",
              "<style scoped>\n",
              "    .dataframe tbody tr th:only-of-type {\n",
              "        vertical-align: middle;\n",
              "    }\n",
              "\n",
              "    .dataframe tbody tr th {\n",
              "        vertical-align: top;\n",
              "    }\n",
              "\n",
              "    .dataframe thead th {\n",
              "        text-align: right;\n",
              "    }\n",
              "</style>\n",
              "<table border=\"1\" class=\"dataframe\">\n",
              "  <thead>\n",
              "    <tr style=\"text-align: right;\">\n",
              "      <th></th>\n",
              "      <th>id</th>\n",
              "      <th>document</th>\n",
              "      <th>preprocessed</th>\n",
              "      <th>tokenized_stem</th>\n",
              "      <th>main_pos</th>\n",
              "      <th>pred</th>\n",
              "    </tr>\n",
              "  </thead>\n",
              "  <tbody>\n",
              "    <tr>\n",
              "      <th>0</th>\n",
              "      <td>1</td>\n",
              "      <td>시간 때우기 좋은 영화 지루함</td>\n",
              "      <td>시간 때우기 좋은 영화 지루함</td>\n",
              "      <td>시간 때우다 좋다 영화 지루함</td>\n",
              "      <td>시간 때우기 좋은 영화 지루함</td>\n",
              "      <td>0</td>\n",
              "    </tr>\n",
              "    <tr>\n",
              "      <th>1</th>\n",
              "      <td>2</td>\n",
              "      <td>훈훈한 정이 느껴지는 영화! 가족끼리 드라마 보듯이 보면 딱~!</td>\n",
              "      <td>훈훈한 정이 느껴지는 영화 가족끼리 드라마 보듯이 보면 딱</td>\n",
              "      <td>훈훈하다 정이 느껴지다 영화 가족 끼리 드라마 보다 보다 딱</td>\n",
              "      <td>훈훈한 정이 느껴지는 영화 가족 끼리 드라마 보듯이 보면 딱</td>\n",
              "      <td>1</td>\n",
              "    </tr>\n",
              "    <tr>\n",
              "      <th>2</th>\n",
              "      <td>3</td>\n",
              "      <td>Childhood fantasy</td>\n",
              "      <td></td>\n",
              "      <td></td>\n",
              "      <td></td>\n",
              "      <td>0</td>\n",
              "    </tr>\n",
              "    <tr>\n",
              "      <th>3</th>\n",
              "      <td>4</td>\n",
              "      <td>멋있는 영화입니다. 잊을 수 없는!</td>\n",
              "      <td>멋있는 영화입니다 잊을 수 없는</td>\n",
              "      <td>멋있다 영화 이다 잊다 수 없다</td>\n",
              "      <td>멋있는 영화 입니다 잊을 수 없는</td>\n",
              "      <td>1</td>\n",
              "    </tr>\n",
              "    <tr>\n",
              "      <th>4</th>\n",
              "      <td>5</td>\n",
              "      <td>너무 감동적이네요 펑펑 울었습니다</td>\n",
              "      <td>너무 감동적이네요 펑펑 울었습니다</td>\n",
              "      <td>너무 감동 적다 펑펑 울다</td>\n",
              "      <td>너무 감동 적이네요 펑펑 울었습니다</td>\n",
              "      <td>1</td>\n",
              "    </tr>\n",
              "    <tr>\n",
              "      <th>...</th>\n",
              "      <td>...</td>\n",
              "      <td>...</td>\n",
              "      <td>...</td>\n",
              "      <td>...</td>\n",
              "      <td>...</td>\n",
              "      <td>...</td>\n",
              "    </tr>\n",
              "    <tr>\n",
              "      <th>4995</th>\n",
              "      <td>4996</td>\n",
              "      <td>연계도 제대로 안되고 뭔가 부족한느낌이들고 찝찝한영화</td>\n",
              "      <td>연계도 제대로 안되고 뭔가 부족한느낌이들고 찝찝한영화</td>\n",
              "      <td>연 계 도 제대로 안되다 뭔가 부족하다 느낌 이 들다 찝찝하다 영화</td>\n",
              "      <td>계 제대로 안되고 뭔가 부족한 느낌 들고 찝찝한 영화</td>\n",
              "      <td>0</td>\n",
              "    </tr>\n",
              "    <tr>\n",
              "      <th>4996</th>\n",
              "      <td>4997</td>\n",
              "      <td>내생에 최악의 영화중 하나 졸려서 미칠뻔....</td>\n",
              "      <td>내생에 최악의 영화중 하나 졸려서 미칠뻔</td>\n",
              "      <td>내생 에 최악 의 영화 중 하나 졸리다 미치다 뻔</td>\n",
              "      <td>내생 최악 영화 하나 졸려서 미칠 뻔</td>\n",
              "      <td>0</td>\n",
              "    </tr>\n",
              "    <tr>\n",
              "      <th>4997</th>\n",
              "      <td>4998</td>\n",
              "      <td>지금까지 나온 드라마 중 최고였습니다. 100점 만점!</td>\n",
              "      <td>지금까지 나온 드라마 중 최고였습니다 점 만점</td>\n",
              "      <td>지금 까지 나오다 드라마 중 최고 이다 점 만점</td>\n",
              "      <td>지금 나온 드라마 중 최고 였습니다 점 만점</td>\n",
              "      <td>1</td>\n",
              "    </tr>\n",
              "    <tr>\n",
              "      <th>4998</th>\n",
              "      <td>4999</td>\n",
              "      <td>영화값으로 엄청난 공연을 보았다 - 이게 웬 횡재 ..</td>\n",
              "      <td>영화값으로 엄청난 공연을 보았다 이게 웬 횡재</td>\n",
              "      <td>영화 값 으로 엄청나다 공연 을 보다 이 게 웬 횡재</td>\n",
              "      <td>영화 값 엄청난 공연 보았다 이 웬 횡재</td>\n",
              "      <td>0</td>\n",
              "    </tr>\n",
              "    <tr>\n",
              "      <th>4999</th>\n",
              "      <td>5000</td>\n",
              "      <td>올해엔 롯데 자이언츠가 꼭 우승했으면...</td>\n",
              "      <td>올해엔 롯데 자이언츠가 꼭 우승했으면</td>\n",
              "      <td>올해 엔 롯데 자이언츠 가 꼭 우승하다</td>\n",
              "      <td>올해 롯데 자이언츠 꼭 우승했으면</td>\n",
              "      <td>1</td>\n",
              "    </tr>\n",
              "  </tbody>\n",
              "</table>\n",
              "<p>5000 rows × 6 columns</p>\n",
              "</div>\n",
              "      <button class=\"colab-df-convert\" onclick=\"convertToInteractive('df-f6455ef2-fc38-47df-8b04-b08f731d0722')\"\n",
              "              title=\"Convert this dataframe to an interactive table.\"\n",
              "              style=\"display:none;\">\n",
              "        \n",
              "  <svg xmlns=\"http://www.w3.org/2000/svg\" height=\"24px\"viewBox=\"0 0 24 24\"\n",
              "       width=\"24px\">\n",
              "    <path d=\"M0 0h24v24H0V0z\" fill=\"none\"/>\n",
              "    <path d=\"M18.56 5.44l.94 2.06.94-2.06 2.06-.94-2.06-.94-.94-2.06-.94 2.06-2.06.94zm-11 1L8.5 8.5l.94-2.06 2.06-.94-2.06-.94L8.5 2.5l-.94 2.06-2.06.94zm10 10l.94 2.06.94-2.06 2.06-.94-2.06-.94-.94-2.06-.94 2.06-2.06.94z\"/><path d=\"M17.41 7.96l-1.37-1.37c-.4-.4-.92-.59-1.43-.59-.52 0-1.04.2-1.43.59L10.3 9.45l-7.72 7.72c-.78.78-.78 2.05 0 2.83L4 21.41c.39.39.9.59 1.41.59.51 0 1.02-.2 1.41-.59l7.78-7.78 2.81-2.81c.8-.78.8-2.07 0-2.86zM5.41 20L4 18.59l7.72-7.72 1.47 1.35L5.41 20z\"/>\n",
              "  </svg>\n",
              "      </button>\n",
              "      \n",
              "  <style>\n",
              "    .colab-df-container {\n",
              "      display:flex;\n",
              "      flex-wrap:wrap;\n",
              "      gap: 12px;\n",
              "    }\n",
              "\n",
              "    .colab-df-convert {\n",
              "      background-color: #E8F0FE;\n",
              "      border: none;\n",
              "      border-radius: 50%;\n",
              "      cursor: pointer;\n",
              "      display: none;\n",
              "      fill: #1967D2;\n",
              "      height: 32px;\n",
              "      padding: 0 0 0 0;\n",
              "      width: 32px;\n",
              "    }\n",
              "\n",
              "    .colab-df-convert:hover {\n",
              "      background-color: #E2EBFA;\n",
              "      box-shadow: 0px 1px 2px rgba(60, 64, 67, 0.3), 0px 1px 3px 1px rgba(60, 64, 67, 0.15);\n",
              "      fill: #174EA6;\n",
              "    }\n",
              "\n",
              "    [theme=dark] .colab-df-convert {\n",
              "      background-color: #3B4455;\n",
              "      fill: #D2E3FC;\n",
              "    }\n",
              "\n",
              "    [theme=dark] .colab-df-convert:hover {\n",
              "      background-color: #434B5C;\n",
              "      box-shadow: 0px 1px 3px 1px rgba(0, 0, 0, 0.15);\n",
              "      filter: drop-shadow(0px 1px 2px rgba(0, 0, 0, 0.3));\n",
              "      fill: #FFFFFF;\n",
              "    }\n",
              "  </style>\n",
              "\n",
              "      <script>\n",
              "        const buttonEl =\n",
              "          document.querySelector('#df-f6455ef2-fc38-47df-8b04-b08f731d0722 button.colab-df-convert');\n",
              "        buttonEl.style.display =\n",
              "          google.colab.kernel.accessAllowed ? 'block' : 'none';\n",
              "\n",
              "        async function convertToInteractive(key) {\n",
              "          const element = document.querySelector('#df-f6455ef2-fc38-47df-8b04-b08f731d0722');\n",
              "          const dataTable =\n",
              "            await google.colab.kernel.invokeFunction('convertToInteractive',\n",
              "                                                     [key], {});\n",
              "          if (!dataTable) return;\n",
              "\n",
              "          const docLinkHtml = 'Like what you see? Visit the ' +\n",
              "            '<a target=\"_blank\" href=https://colab.research.google.com/notebooks/data_table.ipynb>data table notebook</a>'\n",
              "            + ' to learn more about interactive tables.';\n",
              "          element.innerHTML = '';\n",
              "          dataTable['output_type'] = 'display_data';\n",
              "          await google.colab.output.renderOutput(dataTable, element);\n",
              "          const docLink = document.createElement('div');\n",
              "          docLink.innerHTML = docLinkHtml;\n",
              "          element.appendChild(docLink);\n",
              "        }\n",
              "      </script>\n",
              "    </div>\n",
              "  </div>\n",
              "  "
            ]
          },
          "metadata": {},
          "execution_count": 39
        }
      ]
    },
    {
      "cell_type": "code",
      "source": [
        "df=test.copy()"
      ],
      "metadata": {
        "id": "3Zfud6gkfNQL"
      },
      "execution_count": null,
      "outputs": []
    },
    {
      "cell_type": "code",
      "source": [
        "!pip install matplotlib"
      ],
      "metadata": {
        "colab": {
          "base_uri": "https://localhost:8080/"
        },
        "id": "eoI6_GOkfUiR",
        "outputId": "e6e5183c-d70b-4516-c182-33615ea0fa76"
      },
      "execution_count": null,
      "outputs": [
        {
          "output_type": "stream",
          "name": "stdout",
          "text": [
            "Looking in indexes: https://pypi.org/simple, https://us-python.pkg.dev/colab-wheels/public/simple/\n",
            "Requirement already satisfied: matplotlib in /usr/local/lib/python3.7/dist-packages (3.2.2)\n",
            "Requirement already satisfied: kiwisolver>=1.0.1 in /usr/local/lib/python3.7/dist-packages (from matplotlib) (1.4.4)\n",
            "Requirement already satisfied: numpy>=1.11 in /usr/local/lib/python3.7/dist-packages (from matplotlib) (1.21.6)\n",
            "Requirement already satisfied: cycler>=0.10 in /usr/local/lib/python3.7/dist-packages (from matplotlib) (0.11.0)\n",
            "Requirement already satisfied: pyparsing!=2.0.4,!=2.1.2,!=2.1.6,>=2.0.1 in /usr/local/lib/python3.7/dist-packages (from matplotlib) (3.0.9)\n",
            "Requirement already satisfied: python-dateutil>=2.1 in /usr/local/lib/python3.7/dist-packages (from matplotlib) (2.8.2)\n",
            "Requirement already satisfied: typing-extensions in /usr/local/lib/python3.7/dist-packages (from kiwisolver>=1.0.1->matplotlib) (4.1.1)\n",
            "Requirement already satisfied: six>=1.5 in /usr/local/lib/python3.7/dist-packages (from python-dateutil>=2.1->matplotlib) (1.15.0)\n"
          ]
        }
      ]
    },
    {
      "cell_type": "code",
      "source": [
        "!pip install wordcloud "
      ],
      "metadata": {
        "colab": {
          "base_uri": "https://localhost:8080/"
        },
        "id": "0GMjOsA_fYp1",
        "outputId": "c5291717-0fda-4780-ea22-05459437b89e"
      },
      "execution_count": null,
      "outputs": [
        {
          "output_type": "stream",
          "name": "stdout",
          "text": [
            "Looking in indexes: https://pypi.org/simple, https://us-python.pkg.dev/colab-wheels/public/simple/\n",
            "Requirement already satisfied: wordcloud in /usr/local/lib/python3.7/dist-packages (1.8.2.2)\n",
            "Requirement already satisfied: matplotlib in /usr/local/lib/python3.7/dist-packages (from wordcloud) (3.2.2)\n",
            "Requirement already satisfied: pillow in /usr/local/lib/python3.7/dist-packages (from wordcloud) (7.1.2)\n",
            "Requirement already satisfied: numpy>=1.6.1 in /usr/local/lib/python3.7/dist-packages (from wordcloud) (1.21.6)\n",
            "Requirement already satisfied: pyparsing!=2.0.4,!=2.1.2,!=2.1.6,>=2.0.1 in /usr/local/lib/python3.7/dist-packages (from matplotlib->wordcloud) (3.0.9)\n",
            "Requirement already satisfied: cycler>=0.10 in /usr/local/lib/python3.7/dist-packages (from matplotlib->wordcloud) (0.11.0)\n",
            "Requirement already satisfied: kiwisolver>=1.0.1 in /usr/local/lib/python3.7/dist-packages (from matplotlib->wordcloud) (1.4.4)\n",
            "Requirement already satisfied: python-dateutil>=2.1 in /usr/local/lib/python3.7/dist-packages (from matplotlib->wordcloud) (2.8.2)\n",
            "Requirement already satisfied: typing-extensions in /usr/local/lib/python3.7/dist-packages (from kiwisolver>=1.0.1->matplotlib->wordcloud) (4.1.1)\n",
            "Requirement already satisfied: six>=1.5 in /usr/local/lib/python3.7/dist-packages (from python-dateutil>=2.1->matplotlib->wordcloud) (1.15.0)\n"
          ]
        }
      ]
    },
    {
      "cell_type": "code",
      "source": [
        "import pandas as pd\n",
        "import re\n",
        "\n",
        "from wordcloud import WordCloud, STOPWORDS\n",
        "\n",
        "from matplotlib import font_manager, rc\n",
        "import matplotlib.pyplot as plt\n",
        "\n",
        "from konlpy.tag import Okt\n",
        "from collections import Counter\n",
        "\n",
        "import matplotlib.font_manager as fm\n",
        "\n",
        "fontpath = '/content/drive/MyDrive/NanumBarunGothic.ttf'\n",
        "font = fm.FontProperties(fname=fontpath, size=9)\n",
        "plt.rc('font', family='NanumBarunGothic')\n",
        "fm._rebuild()\n"
      ],
      "metadata": {
        "id": "1DYLKVfpfh2h"
      },
      "execution_count": null,
      "outputs": []
    },
    {
      "cell_type": "code",
      "source": [
        "pos = df[df['pred']==1] #긍정리뷰\n",
        "neg = df[df['pred']==0] #부정리뷰"
      ],
      "metadata": {
        "id": "cKgbM9W-foVC"
      },
      "execution_count": null,
      "outputs": []
    },
    {
      "cell_type": "code",
      "source": [
        "display(pos.head())\n",
        "display(neg.head())"
      ],
      "metadata": {
        "colab": {
          "base_uri": "https://localhost:8080/",
          "height": 648
        },
        "id": "XqDws61of_yx",
        "outputId": "856f495a-d428-4a9e-dfc5-e12aaefa3013"
      },
      "execution_count": null,
      "outputs": [
        {
          "output_type": "display_data",
          "data": {
            "text/plain": [
              "   id                             document                       preprocessed  \\\n",
              "1   2  훈훈한 정이 느껴지는 영화! 가족끼리 드라마 보듯이 보면 딱~!   훈훈한 정이 느껴지는 영화 가족끼리 드라마 보듯이 보면 딱   \n",
              "3   4                  멋있는 영화입니다. 잊을 수 없는!                  멋있는 영화입니다 잊을 수 없는   \n",
              "4   5                   너무 감동적이네요 펑펑 울었습니다                 너무 감동적이네요 펑펑 울었습니다   \n",
              "6   7    친구한테 추천받고 본 영화이지만 내가 남들한테 추천하는 영화  친구한테 추천받고 본 영화이지만 내가 남들한테 추천하는 영화   \n",
              "8   9           강배우 엄청난데... 여군버전으로 다시 안 찍나            강배우 엄청난데 여군버전으로 다시 안 찍나   \n",
              "\n",
              "                              tokenized_stem  \\\n",
              "1          훈훈하다 정이 느껴지다 영화 가족 끼리 드라마 보다 보다 딱   \n",
              "3                          멋있다 영화 이다 잊다 수 없다   \n",
              "4                             너무 감동 적다 펑펑 울다   \n",
              "6  친구 한테 추천 받다 보다 영화 이지만 내 가 남 들 한테 추천 하다 영화   \n",
              "8                강 배우 엄청나다 여군 버전 으로 다시 안 찍 나   \n",
              "\n",
              "                            main_pos  pred  \n",
              "1  훈훈한 정이 느껴지는 영화 가족 끼리 드라마 보듯이 보면 딱     1  \n",
              "3                 멋있는 영화 입니다 잊을 수 없는     1  \n",
              "4                너무 감동 적이네요 펑펑 울었습니다     1  \n",
              "6         친구 추천 받고 본 영화 내 남 추천 하는 영화     1  \n",
              "8             강 배우 엄청난데 여군 버전 다시 안 찍     1  "
            ],
            "text/html": [
              "\n",
              "  <div id=\"df-83c40992-9c3d-489c-8d2f-d97320a7052e\">\n",
              "    <div class=\"colab-df-container\">\n",
              "      <div>\n",
              "<style scoped>\n",
              "    .dataframe tbody tr th:only-of-type {\n",
              "        vertical-align: middle;\n",
              "    }\n",
              "\n",
              "    .dataframe tbody tr th {\n",
              "        vertical-align: top;\n",
              "    }\n",
              "\n",
              "    .dataframe thead th {\n",
              "        text-align: right;\n",
              "    }\n",
              "</style>\n",
              "<table border=\"1\" class=\"dataframe\">\n",
              "  <thead>\n",
              "    <tr style=\"text-align: right;\">\n",
              "      <th></th>\n",
              "      <th>id</th>\n",
              "      <th>document</th>\n",
              "      <th>preprocessed</th>\n",
              "      <th>tokenized_stem</th>\n",
              "      <th>main_pos</th>\n",
              "      <th>pred</th>\n",
              "    </tr>\n",
              "  </thead>\n",
              "  <tbody>\n",
              "    <tr>\n",
              "      <th>1</th>\n",
              "      <td>2</td>\n",
              "      <td>훈훈한 정이 느껴지는 영화! 가족끼리 드라마 보듯이 보면 딱~!</td>\n",
              "      <td>훈훈한 정이 느껴지는 영화 가족끼리 드라마 보듯이 보면 딱</td>\n",
              "      <td>훈훈하다 정이 느껴지다 영화 가족 끼리 드라마 보다 보다 딱</td>\n",
              "      <td>훈훈한 정이 느껴지는 영화 가족 끼리 드라마 보듯이 보면 딱</td>\n",
              "      <td>1</td>\n",
              "    </tr>\n",
              "    <tr>\n",
              "      <th>3</th>\n",
              "      <td>4</td>\n",
              "      <td>멋있는 영화입니다. 잊을 수 없는!</td>\n",
              "      <td>멋있는 영화입니다 잊을 수 없는</td>\n",
              "      <td>멋있다 영화 이다 잊다 수 없다</td>\n",
              "      <td>멋있는 영화 입니다 잊을 수 없는</td>\n",
              "      <td>1</td>\n",
              "    </tr>\n",
              "    <tr>\n",
              "      <th>4</th>\n",
              "      <td>5</td>\n",
              "      <td>너무 감동적이네요 펑펑 울었습니다</td>\n",
              "      <td>너무 감동적이네요 펑펑 울었습니다</td>\n",
              "      <td>너무 감동 적다 펑펑 울다</td>\n",
              "      <td>너무 감동 적이네요 펑펑 울었습니다</td>\n",
              "      <td>1</td>\n",
              "    </tr>\n",
              "    <tr>\n",
              "      <th>6</th>\n",
              "      <td>7</td>\n",
              "      <td>친구한테 추천받고 본 영화이지만 내가 남들한테 추천하는 영화</td>\n",
              "      <td>친구한테 추천받고 본 영화이지만 내가 남들한테 추천하는 영화</td>\n",
              "      <td>친구 한테 추천 받다 보다 영화 이지만 내 가 남 들 한테 추천 하다 영화</td>\n",
              "      <td>친구 추천 받고 본 영화 내 남 추천 하는 영화</td>\n",
              "      <td>1</td>\n",
              "    </tr>\n",
              "    <tr>\n",
              "      <th>8</th>\n",
              "      <td>9</td>\n",
              "      <td>강배우 엄청난데... 여군버전으로 다시 안 찍나</td>\n",
              "      <td>강배우 엄청난데 여군버전으로 다시 안 찍나</td>\n",
              "      <td>강 배우 엄청나다 여군 버전 으로 다시 안 찍 나</td>\n",
              "      <td>강 배우 엄청난데 여군 버전 다시 안 찍</td>\n",
              "      <td>1</td>\n",
              "    </tr>\n",
              "  </tbody>\n",
              "</table>\n",
              "</div>\n",
              "      <button class=\"colab-df-convert\" onclick=\"convertToInteractive('df-83c40992-9c3d-489c-8d2f-d97320a7052e')\"\n",
              "              title=\"Convert this dataframe to an interactive table.\"\n",
              "              style=\"display:none;\">\n",
              "        \n",
              "  <svg xmlns=\"http://www.w3.org/2000/svg\" height=\"24px\"viewBox=\"0 0 24 24\"\n",
              "       width=\"24px\">\n",
              "    <path d=\"M0 0h24v24H0V0z\" fill=\"none\"/>\n",
              "    <path d=\"M18.56 5.44l.94 2.06.94-2.06 2.06-.94-2.06-.94-.94-2.06-.94 2.06-2.06.94zm-11 1L8.5 8.5l.94-2.06 2.06-.94-2.06-.94L8.5 2.5l-.94 2.06-2.06.94zm10 10l.94 2.06.94-2.06 2.06-.94-2.06-.94-.94-2.06-.94 2.06-2.06.94z\"/><path d=\"M17.41 7.96l-1.37-1.37c-.4-.4-.92-.59-1.43-.59-.52 0-1.04.2-1.43.59L10.3 9.45l-7.72 7.72c-.78.78-.78 2.05 0 2.83L4 21.41c.39.39.9.59 1.41.59.51 0 1.02-.2 1.41-.59l7.78-7.78 2.81-2.81c.8-.78.8-2.07 0-2.86zM5.41 20L4 18.59l7.72-7.72 1.47 1.35L5.41 20z\"/>\n",
              "  </svg>\n",
              "      </button>\n",
              "      \n",
              "  <style>\n",
              "    .colab-df-container {\n",
              "      display:flex;\n",
              "      flex-wrap:wrap;\n",
              "      gap: 12px;\n",
              "    }\n",
              "\n",
              "    .colab-df-convert {\n",
              "      background-color: #E8F0FE;\n",
              "      border: none;\n",
              "      border-radius: 50%;\n",
              "      cursor: pointer;\n",
              "      display: none;\n",
              "      fill: #1967D2;\n",
              "      height: 32px;\n",
              "      padding: 0 0 0 0;\n",
              "      width: 32px;\n",
              "    }\n",
              "\n",
              "    .colab-df-convert:hover {\n",
              "      background-color: #E2EBFA;\n",
              "      box-shadow: 0px 1px 2px rgba(60, 64, 67, 0.3), 0px 1px 3px 1px rgba(60, 64, 67, 0.15);\n",
              "      fill: #174EA6;\n",
              "    }\n",
              "\n",
              "    [theme=dark] .colab-df-convert {\n",
              "      background-color: #3B4455;\n",
              "      fill: #D2E3FC;\n",
              "    }\n",
              "\n",
              "    [theme=dark] .colab-df-convert:hover {\n",
              "      background-color: #434B5C;\n",
              "      box-shadow: 0px 1px 3px 1px rgba(0, 0, 0, 0.15);\n",
              "      filter: drop-shadow(0px 1px 2px rgba(0, 0, 0, 0.3));\n",
              "      fill: #FFFFFF;\n",
              "    }\n",
              "  </style>\n",
              "\n",
              "      <script>\n",
              "        const buttonEl =\n",
              "          document.querySelector('#df-83c40992-9c3d-489c-8d2f-d97320a7052e button.colab-df-convert');\n",
              "        buttonEl.style.display =\n",
              "          google.colab.kernel.accessAllowed ? 'block' : 'none';\n",
              "\n",
              "        async function convertToInteractive(key) {\n",
              "          const element = document.querySelector('#df-83c40992-9c3d-489c-8d2f-d97320a7052e');\n",
              "          const dataTable =\n",
              "            await google.colab.kernel.invokeFunction('convertToInteractive',\n",
              "                                                     [key], {});\n",
              "          if (!dataTable) return;\n",
              "\n",
              "          const docLinkHtml = 'Like what you see? Visit the ' +\n",
              "            '<a target=\"_blank\" href=https://colab.research.google.com/notebooks/data_table.ipynb>data table notebook</a>'\n",
              "            + ' to learn more about interactive tables.';\n",
              "          element.innerHTML = '';\n",
              "          dataTable['output_type'] = 'display_data';\n",
              "          await google.colab.output.renderOutput(dataTable, element);\n",
              "          const docLink = document.createElement('div');\n",
              "          docLink.innerHTML = docLinkHtml;\n",
              "          element.appendChild(docLink);\n",
              "        }\n",
              "      </script>\n",
              "    </div>\n",
              "  </div>\n",
              "  "
            ]
          },
          "metadata": {}
        },
        {
          "output_type": "display_data",
          "data": {
            "text/plain": [
              "   id                            document                        preprocessed  \\\n",
              "0   1                    시간 때우기 좋은 영화 지루함                    시간 때우기 좋은 영화 지루함   \n",
              "2   3                   Childhood fantasy                                       \n",
              "5   6  어이 김구라 자세좀 똑바로 앉어방송마다 왜케 삐딱하게 앉는거지  어이 김구라 자세좀 똑바로 앉어방송마다 왜케 삐딱하게 앉는거지   \n",
              "7   8                  머 내용은 그닥... 특별하지않다                     머 내용은 그닥 특별하지않다   \n",
              "9  10            이렇게 재밋게본 드라마 추노말거 없엇음 ㅜ짱            이렇게 재밋게본 드라마 추노말거 없엇음 ㅜ짱   \n",
              "\n",
              "                         tokenized_stem                             main_pos  \\\n",
              "0                      시간 때우다 좋다 영화 지루함                     시간 때우기 좋은 영화 지루함   \n",
              "2                                                                              \n",
              "5  어이 김구라 자세 좀 똑바로 앉다 방송 마다 왜케 삐 딱하다 앉다  어이 김구라 자세 좀 똑바로 앉어 방송 왜케 삐 딱하게 앉는거지   \n",
              "7                     머 내용 은 그닥 특별하다 않다                      머 내용 그닥 특별하지 않다   \n",
              "9               이렇게 재밋게본 드라마 추다 없엇음 ㅜ 짱              이렇게 재밋게본 드라마 추노말거 없엇음 짱   \n",
              "\n",
              "   pred  \n",
              "0     0  \n",
              "2     0  \n",
              "5     0  \n",
              "7     0  \n",
              "9     0  "
            ],
            "text/html": [
              "\n",
              "  <div id=\"df-89f8eb57-f004-4f93-8c67-941ec4caab51\">\n",
              "    <div class=\"colab-df-container\">\n",
              "      <div>\n",
              "<style scoped>\n",
              "    .dataframe tbody tr th:only-of-type {\n",
              "        vertical-align: middle;\n",
              "    }\n",
              "\n",
              "    .dataframe tbody tr th {\n",
              "        vertical-align: top;\n",
              "    }\n",
              "\n",
              "    .dataframe thead th {\n",
              "        text-align: right;\n",
              "    }\n",
              "</style>\n",
              "<table border=\"1\" class=\"dataframe\">\n",
              "  <thead>\n",
              "    <tr style=\"text-align: right;\">\n",
              "      <th></th>\n",
              "      <th>id</th>\n",
              "      <th>document</th>\n",
              "      <th>preprocessed</th>\n",
              "      <th>tokenized_stem</th>\n",
              "      <th>main_pos</th>\n",
              "      <th>pred</th>\n",
              "    </tr>\n",
              "  </thead>\n",
              "  <tbody>\n",
              "    <tr>\n",
              "      <th>0</th>\n",
              "      <td>1</td>\n",
              "      <td>시간 때우기 좋은 영화 지루함</td>\n",
              "      <td>시간 때우기 좋은 영화 지루함</td>\n",
              "      <td>시간 때우다 좋다 영화 지루함</td>\n",
              "      <td>시간 때우기 좋은 영화 지루함</td>\n",
              "      <td>0</td>\n",
              "    </tr>\n",
              "    <tr>\n",
              "      <th>2</th>\n",
              "      <td>3</td>\n",
              "      <td>Childhood fantasy</td>\n",
              "      <td></td>\n",
              "      <td></td>\n",
              "      <td></td>\n",
              "      <td>0</td>\n",
              "    </tr>\n",
              "    <tr>\n",
              "      <th>5</th>\n",
              "      <td>6</td>\n",
              "      <td>어이 김구라 자세좀 똑바로 앉어방송마다 왜케 삐딱하게 앉는거지</td>\n",
              "      <td>어이 김구라 자세좀 똑바로 앉어방송마다 왜케 삐딱하게 앉는거지</td>\n",
              "      <td>어이 김구라 자세 좀 똑바로 앉다 방송 마다 왜케 삐 딱하다 앉다</td>\n",
              "      <td>어이 김구라 자세 좀 똑바로 앉어 방송 왜케 삐 딱하게 앉는거지</td>\n",
              "      <td>0</td>\n",
              "    </tr>\n",
              "    <tr>\n",
              "      <th>7</th>\n",
              "      <td>8</td>\n",
              "      <td>머 내용은 그닥... 특별하지않다</td>\n",
              "      <td>머 내용은 그닥 특별하지않다</td>\n",
              "      <td>머 내용 은 그닥 특별하다 않다</td>\n",
              "      <td>머 내용 그닥 특별하지 않다</td>\n",
              "      <td>0</td>\n",
              "    </tr>\n",
              "    <tr>\n",
              "      <th>9</th>\n",
              "      <td>10</td>\n",
              "      <td>이렇게 재밋게본 드라마 추노말거 없엇음 ㅜ짱</td>\n",
              "      <td>이렇게 재밋게본 드라마 추노말거 없엇음 ㅜ짱</td>\n",
              "      <td>이렇게 재밋게본 드라마 추다 없엇음 ㅜ 짱</td>\n",
              "      <td>이렇게 재밋게본 드라마 추노말거 없엇음 짱</td>\n",
              "      <td>0</td>\n",
              "    </tr>\n",
              "  </tbody>\n",
              "</table>\n",
              "</div>\n",
              "      <button class=\"colab-df-convert\" onclick=\"convertToInteractive('df-89f8eb57-f004-4f93-8c67-941ec4caab51')\"\n",
              "              title=\"Convert this dataframe to an interactive table.\"\n",
              "              style=\"display:none;\">\n",
              "        \n",
              "  <svg xmlns=\"http://www.w3.org/2000/svg\" height=\"24px\"viewBox=\"0 0 24 24\"\n",
              "       width=\"24px\">\n",
              "    <path d=\"M0 0h24v24H0V0z\" fill=\"none\"/>\n",
              "    <path d=\"M18.56 5.44l.94 2.06.94-2.06 2.06-.94-2.06-.94-.94-2.06-.94 2.06-2.06.94zm-11 1L8.5 8.5l.94-2.06 2.06-.94-2.06-.94L8.5 2.5l-.94 2.06-2.06.94zm10 10l.94 2.06.94-2.06 2.06-.94-2.06-.94-.94-2.06-.94 2.06-2.06.94z\"/><path d=\"M17.41 7.96l-1.37-1.37c-.4-.4-.92-.59-1.43-.59-.52 0-1.04.2-1.43.59L10.3 9.45l-7.72 7.72c-.78.78-.78 2.05 0 2.83L4 21.41c.39.39.9.59 1.41.59.51 0 1.02-.2 1.41-.59l7.78-7.78 2.81-2.81c.8-.78.8-2.07 0-2.86zM5.41 20L4 18.59l7.72-7.72 1.47 1.35L5.41 20z\"/>\n",
              "  </svg>\n",
              "      </button>\n",
              "      \n",
              "  <style>\n",
              "    .colab-df-container {\n",
              "      display:flex;\n",
              "      flex-wrap:wrap;\n",
              "      gap: 12px;\n",
              "    }\n",
              "\n",
              "    .colab-df-convert {\n",
              "      background-color: #E8F0FE;\n",
              "      border: none;\n",
              "      border-radius: 50%;\n",
              "      cursor: pointer;\n",
              "      display: none;\n",
              "      fill: #1967D2;\n",
              "      height: 32px;\n",
              "      padding: 0 0 0 0;\n",
              "      width: 32px;\n",
              "    }\n",
              "\n",
              "    .colab-df-convert:hover {\n",
              "      background-color: #E2EBFA;\n",
              "      box-shadow: 0px 1px 2px rgba(60, 64, 67, 0.3), 0px 1px 3px 1px rgba(60, 64, 67, 0.15);\n",
              "      fill: #174EA6;\n",
              "    }\n",
              "\n",
              "    [theme=dark] .colab-df-convert {\n",
              "      background-color: #3B4455;\n",
              "      fill: #D2E3FC;\n",
              "    }\n",
              "\n",
              "    [theme=dark] .colab-df-convert:hover {\n",
              "      background-color: #434B5C;\n",
              "      box-shadow: 0px 1px 3px 1px rgba(0, 0, 0, 0.15);\n",
              "      filter: drop-shadow(0px 1px 2px rgba(0, 0, 0, 0.3));\n",
              "      fill: #FFFFFF;\n",
              "    }\n",
              "  </style>\n",
              "\n",
              "      <script>\n",
              "        const buttonEl =\n",
              "          document.querySelector('#df-89f8eb57-f004-4f93-8c67-941ec4caab51 button.colab-df-convert');\n",
              "        buttonEl.style.display =\n",
              "          google.colab.kernel.accessAllowed ? 'block' : 'none';\n",
              "\n",
              "        async function convertToInteractive(key) {\n",
              "          const element = document.querySelector('#df-89f8eb57-f004-4f93-8c67-941ec4caab51');\n",
              "          const dataTable =\n",
              "            await google.colab.kernel.invokeFunction('convertToInteractive',\n",
              "                                                     [key], {});\n",
              "          if (!dataTable) return;\n",
              "\n",
              "          const docLinkHtml = 'Like what you see? Visit the ' +\n",
              "            '<a target=\"_blank\" href=https://colab.research.google.com/notebooks/data_table.ipynb>data table notebook</a>'\n",
              "            + ' to learn more about interactive tables.';\n",
              "          element.innerHTML = '';\n",
              "          dataTable['output_type'] = 'display_data';\n",
              "          await google.colab.output.renderOutput(dataTable, element);\n",
              "          const docLink = document.createElement('div');\n",
              "          docLink.innerHTML = docLinkHtml;\n",
              "          element.appendChild(docLink);\n",
              "        }\n",
              "      </script>\n",
              "    </div>\n",
              "  </div>\n",
              "  "
            ]
          },
          "metadata": {}
        }
      ]
    },
    {
      "cell_type": "markdown",
      "source": [
        "## 긍정리뷰 워드클라우드"
      ],
      "metadata": {
        "id": "84p7_YFLlcyJ"
      }
    },
    {
      "cell_type": "code",
      "source": [
        "okt = Okt()\n",
        "\n",
        "content_list = list(pos['main_pos'])\n",
        "noun_list = []\n",
        "\n",
        "for sentence in content_list:\n",
        "\n",
        "\n",
        "    sentence = re.sub('[a-zA-z0-9]','', sentence)\n",
        "    \n",
        "    for word, tag in okt.pos(sentence):\n",
        "      # 명사만 추출\n",
        "        if tag in ['Noun']:  \n",
        "\n",
        "            if len(word) == 1:\n",
        "                continue\n",
        "\n",
        "            else:\n",
        "                noun_list.append(word)\n",
        "\n",
        "count = Counter(noun_list)\n",
        "poswords = dict(count.most_common(n=50)) "
      ],
      "metadata": {
        "id": "1D0_Za7PfjXV"
      },
      "execution_count": null,
      "outputs": []
    },
    {
      "cell_type": "code",
      "source": [
        "poswords"
      ],
      "metadata": {
        "colab": {
          "base_uri": "https://localhost:8080/"
        },
        "outputId": "8ff30a5a-a97d-4445-ad73-301f30aa3881",
        "id": "wV0jVm0itQW7"
      },
      "execution_count": null,
      "outputs": [
        {
          "output_type": "execute_result",
          "data": {
            "text/plain": [
              "{'가슴': 45,\n",
              " '가장': 34,\n",
              " '가족': 26,\n",
              " '감동': 147,\n",
              " '강추': 24,\n",
              " '계속': 21,\n",
              " '기억': 30,\n",
              " '나름': 21,\n",
              " '눈물': 28,\n",
              " '다시': 88,\n",
              " '대박': 21,\n",
              " '드라마': 99,\n",
              " '마음': 49,\n",
              " '마지막': 55,\n",
              " '만점': 20,\n",
              " '매력': 50,\n",
              " '명작': 75,\n",
              " '모습': 23,\n",
              " '배우': 52,\n",
              " '보고': 94,\n",
              " '분위기': 22,\n",
              " '사람': 34,\n",
              " '사랑': 83,\n",
              " '생각': 92,\n",
              " '스토리': 29,\n",
              " '시리즈': 21,\n",
              " '아이': 26,\n",
              " '액션': 30,\n",
              " '여운': 34,\n",
              " '역시': 54,\n",
              " '연기': 88,\n",
              " '영화': 827,\n",
              " '완전': 56,\n",
              " '음악': 30,\n",
              " '이야기': 41,\n",
              " '이해': 21,\n",
              " '인간': 24,\n",
              " '인생': 46,\n",
              " '작품': 59,\n",
              " '장면': 42,\n",
              " '재미': 31,\n",
              " '정말': 230,\n",
              " '지금': 54,\n",
              " '진짜': 131,\n",
              " '최고': 226,\n",
              " '최고다': 21,\n",
              " '추천': 34,\n",
              " '평점': 49,\n",
              " '하나': 36,\n",
              " '한번': 22}"
            ]
          },
          "metadata": {},
          "execution_count": 64
        }
      ]
    },
    {
      "cell_type": "code",
      "source": [
        "poswords.items()"
      ],
      "metadata": {
        "colab": {
          "base_uri": "https://localhost:8080/"
        },
        "outputId": "d7605dde-e0c2-421b-de91-08187bcb6c4d",
        "id": "P1HzII9VtN5Z"
      },
      "execution_count": null,
      "outputs": [
        {
          "output_type": "execute_result",
          "data": {
            "text/plain": [
              "dict_items([('영화', 827), ('정말', 230), ('최고', 226), ('감동', 147), ('진짜', 131), ('드라마', 99), ('보고', 94), ('생각', 92), ('다시', 88), ('연기', 88), ('사랑', 83), ('명작', 75), ('작품', 59), ('완전', 56), ('마지막', 55), ('지금', 54), ('역시', 54), ('배우', 52), ('매력', 50), ('마음', 49), ('평점', 49), ('인생', 46), ('가슴', 45), ('장면', 42), ('이야기', 41), ('하나', 36), ('추천', 34), ('가장', 34), ('사람', 34), ('여운', 34), ('재미', 31), ('기억', 30), ('음악', 30), ('액션', 30), ('스토리', 29), ('눈물', 28), ('가족', 26), ('아이', 26), ('인간', 24), ('강추', 24), ('모습', 23), ('분위기', 22), ('한번', 22), ('시리즈', 21), ('대박', 21), ('이해', 21), ('계속', 21), ('나름', 21), ('최고다', 21), ('만점', 20)])"
            ]
          },
          "metadata": {},
          "execution_count": 65
        }
      ]
    },
    {
      "cell_type": "code",
      "source": [
        "#특정 단어 지정해서 불용어 제거\n",
        "poswords.pop('정말')"
      ],
      "metadata": {
        "colab": {
          "base_uri": "https://localhost:8080/"
        },
        "id": "_vwFGWKQgdPK",
        "outputId": "89dbf9c4-a4c4-43ca-e804-0dacbeb3bec5"
      },
      "execution_count": null,
      "outputs": [
        {
          "output_type": "execute_result",
          "data": {
            "text/plain": [
              "230"
            ]
          },
          "metadata": {},
          "execution_count": 66
        }
      ]
    },
    {
      "cell_type": "code",
      "source": [
        "# 불용어 리스트 생성해서 제거\n",
        "stop_words = \"다시 완전 마지막 지금 역시 영화\"\n",
        "stop_words = stop_words.split(' ')\n",
        "\n",
        "\n",
        "# 불용어 제거 실시\n",
        "posword2 = [(i,j)for i,j in poswords.items()  if i not in stop_words]\n",
        "\n",
        "# 결과 출력\n",
        "posword3=dict(posword2)\n",
        "print(posword3)"
      ],
      "metadata": {
        "colab": {
          "base_uri": "https://localhost:8080/"
        },
        "outputId": "798cc8f9-ae8c-4cbc-bc93-b146a2ba076b",
        "id": "0qkyktl6lP5Q"
      },
      "execution_count": null,
      "outputs": [
        {
          "output_type": "stream",
          "name": "stdout",
          "text": [
            "{'최고': 226, '감동': 147, '진짜': 131, '드라마': 99, '보고': 94, '생각': 92, '연기': 88, '사랑': 83, '명작': 75, '작품': 59, '배우': 52, '매력': 50, '마음': 49, '평점': 49, '인생': 46, '가슴': 45, '장면': 42, '이야기': 41, '하나': 36, '추천': 34, '가장': 34, '사람': 34, '여운': 34, '재미': 31, '기억': 30, '음악': 30, '액션': 30, '스토리': 29, '눈물': 28, '가족': 26, '아이': 26, '인간': 24, '강추': 24, '모습': 23, '분위기': 22, '한번': 22, '시리즈': 21, '대박': 21, '이해': 21, '계속': 21, '나름': 21, '최고다': 21, '만점': 20}\n"
          ]
        }
      ]
    },
    {
      "cell_type": "code",
      "source": [
        "from PIL import Image, ImageFilter"
      ],
      "metadata": {
        "id": "61nBuCzsiwRU"
      },
      "execution_count": null,
      "outputs": []
    },
    {
      "cell_type": "code",
      "source": [
        "Image.open(\"/content/drive/MyDrive/제목 없음.jpg\") # 부정리뷰 워드클라우드에서는 원하는 이미지로 대체할 것"
      ],
      "metadata": {
        "colab": {
          "base_uri": "https://localhost:8080/",
          "height": 284
        },
        "id": "uhpEY13Fi5cq",
        "outputId": "2e3dcfb4-2bb6-4397-e0ee-b3c807f03d97"
      },
      "execution_count": null,
      "outputs": [
        {
          "output_type": "execute_result",
          "data": {
            "text/plain": [
              "<PIL.JpegImagePlugin.JpegImageFile image mode=RGB size=536x267 at 0x7F2B6973A590>"
            ],
            "image/png": "[encoded data removed]"
          },
          "metadata": {},
          "execution_count": 59
        }
      ]
    },
    {
      "cell_type": "code",
      "source": [
        "import numpy as np\n",
        "mask_array = np.array(Image.open(\"/content/drive/MyDrive/제목 없음.jpg\"))\n",
        "mask_array"
      ],
      "metadata": {
        "colab": {
          "base_uri": "https://localhost:8080/"
        },
        "id": "Abo3heX8i7gm",
        "outputId": "8bd67123-64da-41a6-c72b-7d1cc3cf07d2"
      },
      "execution_count": null,
      "outputs": [
        {
          "output_type": "execute_result",
          "data": {
            "text/plain": [
              "array([[[255, 255, 255],\n",
              "        [255, 255, 255],\n",
              "        [255, 255, 255],\n",
              "        ...,\n",
              "        [255, 255, 255],\n",
              "        [255, 255, 255],\n",
              "        [255, 255, 255]],\n",
              "\n",
              "       [[255, 255, 255],\n",
              "        [255, 255, 255],\n",
              "        [255, 255, 255],\n",
              "        ...,\n",
              "        [255, 255, 255],\n",
              "        [255, 255, 255],\n",
              "        [255, 255, 255]],\n",
              "\n",
              "       [[255, 255, 255],\n",
              "        [255, 255, 255],\n",
              "        [255, 255, 255],\n",
              "        ...,\n",
              "        [255, 255, 255],\n",
              "        [255, 255, 255],\n",
              "        [255, 255, 255]],\n",
              "\n",
              "       ...,\n",
              "\n",
              "       [[255, 255, 255],\n",
              "        [255, 255, 255],\n",
              "        [255, 255, 255],\n",
              "        ...,\n",
              "        [255, 255, 255],\n",
              "        [255, 255, 255],\n",
              "        [255, 255, 255]],\n",
              "\n",
              "       [[255, 255, 255],\n",
              "        [255, 255, 255],\n",
              "        [255, 255, 255],\n",
              "        ...,\n",
              "        [255, 255, 255],\n",
              "        [255, 255, 255],\n",
              "        [255, 255, 255]],\n",
              "\n",
              "       [[255, 255, 255],\n",
              "        [255, 255, 255],\n",
              "        [255, 255, 255],\n",
              "        ...,\n",
              "        [255, 255, 255],\n",
              "        [255, 255, 255],\n",
              "        [255, 255, 255]]], dtype=uint8)"
            ]
          },
          "metadata": {},
          "execution_count": 60
        }
      ]
    },
    {
      "cell_type": "markdown",
      "source": [
        "옵션정리\n",
        "\n",
        "alicewc = WordCloud(\n",
        "    \n",
        "    background_color = \"white\",# 배경색 설정\n",
        "\n",
        "    collocations = False, # 이때 collocations=True 이면 said King, said Hatter 같이 자주 나타나는 단어는 하나의 어구로 분류됨.\n",
        "\n",
        "    stopwords = stopwords, #불용어 지정\n",
        "\n",
        "    width = 600, height = 400, #이미지 크기 지정\n",
        "\n",
        "    colormap = \"Reds\", # 글씨 색깔 지정\n",
        "\n",
        "    #font_path = 'path입력'\n",
        "\n",
        "    min_font_size = 5, max_font_size = 100 #폰트 지정 작게할수록 더 많은 글씨가 보이고 크게하면 글자가 강조됨. \n",
        "    \n",
        "    )"
      ],
      "metadata": {
        "id": "8yi8_hsHtWYA"
      }
    },
    {
      "cell_type": "code",
      "source": [
        "mask1 = np.array(Image.open(\"/content/drive/MyDrive/제목 없음.jpg\"))\n",
        "\n",
        "wordcloud = WordCloud(font_path = fontpath,\n",
        "    width = 800,\n",
        "    height = 800,\n",
        "    background_color=\"white\",\n",
        "    mask = mask1\n",
        ")\n",
        "\n",
        "wordcloud = wordcloud.generate_from_frequencies(posword3)\n",
        "plt.figure(figsize=(20, 20))\n",
        "plt.imshow(wordcloud, interpolation=\"bilinear\")\n",
        "plt.axis(\"off\")\n",
        "plt.show()"
      ],
      "metadata": {
        "colab": {
          "base_uri": "https://localhost:8080/",
          "height": 449
        },
        "outputId": "eb6ac84c-b51d-4423-ffe4-acd1c7347538",
        "id": "CPAr-FJ3tJUl"
      },
      "execution_count": null,
      "outputs": [
        {
          "output_type": "display_data",
          "data": {
            "text/plain": [
              "<Figure size 1440x1440 with 1 Axes>"
            ],
            "image/png": "[encoded data removed]"
          },
          "metadata": {
            "needs_background": "light"
          }
        }
      ]
    },
    {
      "cell_type": "markdown",
      "source": [
        "## # To do 부정리뷰 워드클라우드"
      ],
      "metadata": {
        "id": "vpfVIfTYlgQD"
      }
    },
    {
      "cell_type": "markdown",
      "source": [
        "부정리뷰 워드클라우드를 생성해주세요!"
      ],
      "metadata": {
        "id": "A8B6ad2Glwtu"
      }
    }
  ],
  "metadata": {
    "kernelspec": {
      "display_name": "eunil_py38",
      "language": "python",
      "name": "eunil_py38"
    },
    "language_info": {
      "codemirror_mode": {
        "name": "ipython",
        "version": 3
      },
      "file_extension": ".py",
      "mimetype": "text/x-python",
      "name": "python",
      "nbconvert_exporter": "python",
      "pygments_lexer": "ipython3",
      "version": "3.8.12"
    },
    "colab": {
      "name": "wordcloudkonlpy과제.ipynb의 사본",
      "provenance": [],
      "collapsed_sections": []
    }
  },
  "nbformat": 4,
  "nbformat_minor": 0
}